{
 "cells": [
  {
   "cell_type": "code",
   "execution_count": 1,
   "metadata": {},
   "outputs": [],
   "source": [
    "import pandas as pd\n",
    "import numpy as np"
   ]
  },
  {
   "cell_type": "code",
   "execution_count": 7,
   "metadata": {},
   "outputs": [
    {
     "data": {
      "text/html": [
       "<div>\n",
       "<style scoped>\n",
       "    .dataframe tbody tr th:only-of-type {\n",
       "        vertical-align: middle;\n",
       "    }\n",
       "\n",
       "    .dataframe tbody tr th {\n",
       "        vertical-align: top;\n",
       "    }\n",
       "\n",
       "    .dataframe thead th {\n",
       "        text-align: right;\n",
       "    }\n",
       "</style>\n",
       "<table border=\"1\" class=\"dataframe\">\n",
       "  <thead>\n",
       "    <tr style=\"text-align: right;\">\n",
       "      <th></th>\n",
       "      <th>path</th>\n",
       "      <th>dialect</th>\n",
       "      <th>success</th>\n",
       "      <th>final_k</th>\n",
       "      <th>final_epsilon</th>\n",
       "      <th>quietest_attack_snr</th>\n",
       "      <th>num_iter</th>\n",
       "      <th>last_wer</th>\n",
       "      <th>last_transcription</th>\n",
       "    </tr>\n",
       "  </thead>\n",
       "  <tbody>\n",
       "    <tr>\n",
       "      <th>0</th>\n",
       "      <td>common_voice_ca_38406828.mp3</td>\n",
       "      <td>valencià</td>\n",
       "      <td>1</td>\n",
       "      <td>1</td>\n",
       "      <td>0.1</td>\n",
       "      <td>16.568638074878482</td>\n",
       "      <td>2000</td>\n",
       "      <td>NaN</td>\n",
       "      <td>NaN</td>\n",
       "    </tr>\n",
       "    <tr>\n",
       "      <th>1</th>\n",
       "      <td>common_voice_ca_38363523.mp3</td>\n",
       "      <td>valencià</td>\n",
       "      <td>1</td>\n",
       "      <td>8</td>\n",
       "      <td>0.008235429999999997</td>\n",
       "      <td>23.644586133885408</td>\n",
       "      <td>140</td>\n",
       "      <td>NaN</td>\n",
       "      <td>NaN</td>\n",
       "    </tr>\n",
       "    <tr>\n",
       "      <th>2</th>\n",
       "      <td>common_voice_ca_38943678.mp3</td>\n",
       "      <td>valencià</td>\n",
       "      <td>1</td>\n",
       "      <td>8</td>\n",
       "      <td>0.008235429999999997</td>\n",
       "      <td>38.69978351177139</td>\n",
       "      <td>364</td>\n",
       "      <td>NaN</td>\n",
       "      <td>NaN</td>\n",
       "    </tr>\n",
       "    <tr>\n",
       "      <th>3</th>\n",
       "      <td>common_voice_ca_39907748.mp3</td>\n",
       "      <td>valencià</td>\n",
       "      <td>1</td>\n",
       "      <td>7</td>\n",
       "      <td>0.011764899999999997</td>\n",
       "      <td>36.740844411908576</td>\n",
       "      <td>2000</td>\n",
       "      <td>NaN</td>\n",
       "      <td>NaN</td>\n",
       "    </tr>\n",
       "    <tr>\n",
       "      <th>4</th>\n",
       "      <td>common_voice_ca_31314438.mp3</td>\n",
       "      <td>valencià</td>\n",
       "      <td>1</td>\n",
       "      <td>8</td>\n",
       "      <td>0.008235429999999997</td>\n",
       "      <td>39.557781208057506</td>\n",
       "      <td>211</td>\n",
       "      <td>NaN</td>\n",
       "      <td>NaN</td>\n",
       "    </tr>\n",
       "  </tbody>\n",
       "</table>\n",
       "</div>"
      ],
      "text/plain": [
       "                           path   dialect  success final_k  \\\n",
       "0  common_voice_ca_38406828.mp3  valencià        1       1   \n",
       "1  common_voice_ca_38363523.mp3  valencià        1       8   \n",
       "2  common_voice_ca_38943678.mp3  valencià        1       8   \n",
       "3  common_voice_ca_39907748.mp3  valencià        1       7   \n",
       "4  common_voice_ca_31314438.mp3  valencià        1       8   \n",
       "\n",
       "          final_epsilon quietest_attack_snr num_iter last_wer  \\\n",
       "0                   0.1  16.568638074878482     2000      NaN   \n",
       "1  0.008235429999999997  23.644586133885408      140      NaN   \n",
       "2  0.008235429999999997   38.69978351177139      364      NaN   \n",
       "3  0.011764899999999997  36.740844411908576     2000      NaN   \n",
       "4  0.008235429999999997  39.557781208057506      211      NaN   \n",
       "\n",
       "  last_transcription  \n",
       "0                NaN  \n",
       "1                NaN  \n",
       "2                NaN  \n",
       "3                NaN  \n",
       "4                NaN  "
      ]
     },
     "execution_count": 7,
     "metadata": {},
     "output_type": "execute_result"
    }
   ],
   "source": [
    "df_100=pd.read_csv(\"../experiments/central100_53m_v02/eval/attack_stats.tsv\",delimiter=\"\\t\")\n",
    "df_100.replace(\"NONE\",np.nan,inplace=True)\n",
    "df_100.head()"
   ]
  },
  {
   "cell_type": "code",
   "execution_count": 8,
   "metadata": {},
   "outputs": [
    {
     "name": "stdout",
     "output_type": "stream",
     "text": [
      "valencià:\t0.84\n",
      "central:\t0.84\n",
      "nord:\t0.88\n",
      "nord-occidental:\t0.86\n",
      "balear:\t0.84\n"
     ]
    }
   ],
   "source": [
    "#Proportion of successful attacks:\n",
    "\n",
    "for dial in ['valencià','central','nord','nord-occidental','balear']:\n",
    "    df_temp = df_100[df_100['dialect']==dial]\n",
    "    print(f\"{dial}:\\t{np.sum(df_temp['success'])/len(df_temp)}\")"
   ]
  },
  {
   "cell_type": "code",
   "execution_count": 9,
   "metadata": {},
   "outputs": [
    {
     "name": "stdout",
     "output_type": "stream",
     "text": [
      "Overall Attack Success rate: 0.852\n"
     ]
    }
   ],
   "source": [
    "print(f\"Overall Attack Success rate: {df_100['success'].mean()}\")"
   ]
  },
  {
   "cell_type": "code",
   "execution_count": 10,
   "metadata": {},
   "outputs": [
    {
     "name": "stdout",
     "output_type": "stream",
     "text": [
      "valencià:\t34.48365408400221\n",
      "central:\t35.93003803192738\n",
      "nord:\t35.09317723341898\n",
      "nord-occidental:\t36.168257332198216\n",
      "balear:\t36.41259736399821\n"
     ]
    }
   ],
   "source": [
    "#Among the successful attacks, what was the average SNR ? Higher indicates a more succesful attack bc the perturbance is quieter\n",
    "\n",
    "for dial in ['valencià','central','nord','nord-occidental','balear']:\n",
    "    df_temp = df_100[(df_100['dialect']==dial)&(df_100['success']==1)]\n",
    "    print(f\"{dial}:\\t{df_temp['quietest_attack_snr'].astype(float).mean()}\")"
   ]
  },
  {
   "cell_type": "code",
   "execution_count": 11,
   "metadata": {},
   "outputs": [
    {
     "name": "stdout",
     "output_type": "stream",
     "text": [
      "Overall Average SNR: 35.61520667470388\n"
     ]
    }
   ],
   "source": [
    "df_all_cor = df_100[df_100['success']==1]\n",
    "print(f\"Overall Average SNR: {df_all_cor['quietest_attack_snr'].astype(float).mean()}\")"
   ]
  },
  {
   "cell_type": "markdown",
   "metadata": {},
   "source": [
    "## Repeat, now with the 80% Central Catalan model"
   ]
  },
  {
   "cell_type": "code",
   "execution_count": 13,
   "metadata": {},
   "outputs": [
    {
     "data": {
      "text/html": [
       "<div>\n",
       "<style scoped>\n",
       "    .dataframe tbody tr th:only-of-type {\n",
       "        vertical-align: middle;\n",
       "    }\n",
       "\n",
       "    .dataframe tbody tr th {\n",
       "        vertical-align: top;\n",
       "    }\n",
       "\n",
       "    .dataframe thead th {\n",
       "        text-align: right;\n",
       "    }\n",
       "</style>\n",
       "<table border=\"1\" class=\"dataframe\">\n",
       "  <thead>\n",
       "    <tr style=\"text-align: right;\">\n",
       "      <th></th>\n",
       "      <th>path</th>\n",
       "      <th>dialect</th>\n",
       "      <th>success</th>\n",
       "      <th>final_k</th>\n",
       "      <th>final_epsilon</th>\n",
       "      <th>quietest_attack_snr</th>\n",
       "      <th>num_iter</th>\n",
       "      <th>last_wer</th>\n",
       "      <th>last_transcription</th>\n",
       "    </tr>\n",
       "  </thead>\n",
       "  <tbody>\n",
       "    <tr>\n",
       "      <th>0</th>\n",
       "      <td>common_voice_ca_38406828.mp3</td>\n",
       "      <td>valencià</td>\n",
       "      <td>1</td>\n",
       "      <td>8</td>\n",
       "      <td>0.008235429999999997</td>\n",
       "      <td>38.25491223850573</td>\n",
       "      <td>313</td>\n",
       "      <td>NaN</td>\n",
       "      <td>NaN</td>\n",
       "    </tr>\n",
       "    <tr>\n",
       "      <th>1</th>\n",
       "      <td>common_voice_ca_38363523.mp3</td>\n",
       "      <td>valencià</td>\n",
       "      <td>1</td>\n",
       "      <td>8</td>\n",
       "      <td>0.008235429999999997</td>\n",
       "      <td>23.644586133885408</td>\n",
       "      <td>99</td>\n",
       "      <td>NaN</td>\n",
       "      <td>NaN</td>\n",
       "    </tr>\n",
       "    <tr>\n",
       "      <th>2</th>\n",
       "      <td>common_voice_ca_38943678.mp3</td>\n",
       "      <td>valencià</td>\n",
       "      <td>1</td>\n",
       "      <td>8</td>\n",
       "      <td>0.008235429999999997</td>\n",
       "      <td>38.69978351177139</td>\n",
       "      <td>85</td>\n",
       "      <td>NaN</td>\n",
       "      <td>NaN</td>\n",
       "    </tr>\n",
       "    <tr>\n",
       "      <th>3</th>\n",
       "      <td>common_voice_ca_39907748.mp3</td>\n",
       "      <td>valencià</td>\n",
       "      <td>1</td>\n",
       "      <td>7</td>\n",
       "      <td>0.011764899999999997</td>\n",
       "      <td>36.740844411908576</td>\n",
       "      <td>2000</td>\n",
       "      <td>NaN</td>\n",
       "      <td>NaN</td>\n",
       "    </tr>\n",
       "    <tr>\n",
       "      <th>4</th>\n",
       "      <td>common_voice_ca_31314438.mp3</td>\n",
       "      <td>valencià</td>\n",
       "      <td>1</td>\n",
       "      <td>8</td>\n",
       "      <td>0.008235429999999997</td>\n",
       "      <td>39.557781208057506</td>\n",
       "      <td>335</td>\n",
       "      <td>NaN</td>\n",
       "      <td>NaN</td>\n",
       "    </tr>\n",
       "  </tbody>\n",
       "</table>\n",
       "</div>"
      ],
      "text/plain": [
       "                           path   dialect  success final_k  \\\n",
       "0  common_voice_ca_38406828.mp3  valencià        1       8   \n",
       "1  common_voice_ca_38363523.mp3  valencià        1       8   \n",
       "2  common_voice_ca_38943678.mp3  valencià        1       8   \n",
       "3  common_voice_ca_39907748.mp3  valencià        1       7   \n",
       "4  common_voice_ca_31314438.mp3  valencià        1       8   \n",
       "\n",
       "          final_epsilon quietest_attack_snr num_iter last_wer  \\\n",
       "0  0.008235429999999997   38.25491223850573      313      NaN   \n",
       "1  0.008235429999999997  23.644586133885408       99      NaN   \n",
       "2  0.008235429999999997   38.69978351177139       85      NaN   \n",
       "3  0.011764899999999997  36.740844411908576     2000      NaN   \n",
       "4  0.008235429999999997  39.557781208057506      335      NaN   \n",
       "\n",
       "  last_transcription  \n",
       "0                NaN  \n",
       "1                NaN  \n",
       "2                NaN  \n",
       "3                NaN  \n",
       "4                NaN  "
      ]
     },
     "execution_count": 13,
     "metadata": {},
     "output_type": "execute_result"
    }
   ],
   "source": [
    "df_80=pd.read_csv(\"../experiments/central80_53m_v01/eval/attack_stats.tsv\",delimiter=\"\\t\")\n",
    "df_80.replace(\"NONE\",np.nan,inplace=True)\n",
    "df_80.head()"
   ]
  },
  {
   "cell_type": "code",
   "execution_count": 9,
   "metadata": {},
   "outputs": [
    {
     "name": "stdout",
     "output_type": "stream",
     "text": [
      "valencià:\t0.86\n",
      "central:\t0.76\n",
      "nord:\t0.84\n",
      "nord-occidental:\t0.86\n",
      "balear:\t0.78\n",
      "Overall Attack Success rate: 0.82\n"
     ]
    }
   ],
   "source": [
    "for dial in ['valencià','central','nord','nord-occidental','balear']:\n",
    "    df_temp = df_80[df_80['dialect']==dial]\n",
    "    print(f\"{dial}:\\t{np.sum(df_temp['success'])/len(df_temp)}\")\n",
    "print(f\"Overall Attack Success rate: {df_80['success'].mean()}\")"
   ]
  },
  {
   "cell_type": "code",
   "execution_count": 10,
   "metadata": {},
   "outputs": [
    {
     "name": "stdout",
     "output_type": "stream",
     "text": [
      "valencià:\t33.95580881484254\n",
      "central:\t35.61251537503048\n",
      "nord:\t34.69300328118023\n",
      "nord-occidental:\t36.4285048137958\n",
      "balear:\t36.61835921565798\n",
      "Overall Average SNR: 35.439137646355306\n"
     ]
    }
   ],
   "source": [
    "for dial in ['valencià','central','nord','nord-occidental','balear']:\n",
    "    df_temp = df_80[(df_80['dialect']==dial)&(df_80['success']==1)]\n",
    "    print(f\"{dial}:\\t{df_temp['quietest_attack_snr'].astype(float).mean()}\")\n",
    "df_all_cor = df_80[df_80['success']==1]\n",
    "print(f\"Overall Average SNR: {df_all_cor['quietest_attack_snr'].astype(float).mean()}\")"
   ]
  },
  {
   "cell_type": "markdown",
   "metadata": {},
   "source": [
    "## 50% Central Catalan"
   ]
  },
  {
   "cell_type": "code",
   "execution_count": 14,
   "metadata": {},
   "outputs": [
    {
     "data": {
      "text/html": [
       "<div>\n",
       "<style scoped>\n",
       "    .dataframe tbody tr th:only-of-type {\n",
       "        vertical-align: middle;\n",
       "    }\n",
       "\n",
       "    .dataframe tbody tr th {\n",
       "        vertical-align: top;\n",
       "    }\n",
       "\n",
       "    .dataframe thead th {\n",
       "        text-align: right;\n",
       "    }\n",
       "</style>\n",
       "<table border=\"1\" class=\"dataframe\">\n",
       "  <thead>\n",
       "    <tr style=\"text-align: right;\">\n",
       "      <th></th>\n",
       "      <th>path</th>\n",
       "      <th>dialect</th>\n",
       "      <th>success</th>\n",
       "      <th>final_k</th>\n",
       "      <th>final_epsilon</th>\n",
       "      <th>quietest_attack_snr</th>\n",
       "      <th>num_iter</th>\n",
       "      <th>last_wer</th>\n",
       "      <th>last_transcription</th>\n",
       "    </tr>\n",
       "  </thead>\n",
       "  <tbody>\n",
       "    <tr>\n",
       "      <th>0</th>\n",
       "      <td>common_voice_ca_38406828.mp3</td>\n",
       "      <td>valencià</td>\n",
       "      <td>1</td>\n",
       "      <td>8</td>\n",
       "      <td>0.008235429999999997</td>\n",
       "      <td>38.25491223850573</td>\n",
       "      <td>254</td>\n",
       "      <td>NaN</td>\n",
       "      <td>NaN</td>\n",
       "    </tr>\n",
       "    <tr>\n",
       "      <th>1</th>\n",
       "      <td>common_voice_ca_38363523.mp3</td>\n",
       "      <td>valencià</td>\n",
       "      <td>1</td>\n",
       "      <td>8</td>\n",
       "      <td>0.008235429999999997</td>\n",
       "      <td>23.644586133885408</td>\n",
       "      <td>112</td>\n",
       "      <td>NaN</td>\n",
       "      <td>NaN</td>\n",
       "    </tr>\n",
       "    <tr>\n",
       "      <th>2</th>\n",
       "      <td>common_voice_ca_38943678.mp3</td>\n",
       "      <td>valencià</td>\n",
       "      <td>1</td>\n",
       "      <td>8</td>\n",
       "      <td>0.008235429999999997</td>\n",
       "      <td>38.69978351177139</td>\n",
       "      <td>116</td>\n",
       "      <td>NaN</td>\n",
       "      <td>NaN</td>\n",
       "    </tr>\n",
       "    <tr>\n",
       "      <th>3</th>\n",
       "      <td>common_voice_ca_39907748.mp3</td>\n",
       "      <td>valencià</td>\n",
       "      <td>1</td>\n",
       "      <td>6</td>\n",
       "      <td>0.016806999999999996</td>\n",
       "      <td>33.6428054872276</td>\n",
       "      <td>2000</td>\n",
       "      <td>NaN</td>\n",
       "      <td>NaN</td>\n",
       "    </tr>\n",
       "    <tr>\n",
       "      <th>4</th>\n",
       "      <td>common_voice_ca_31314438.mp3</td>\n",
       "      <td>valencià</td>\n",
       "      <td>1</td>\n",
       "      <td>8</td>\n",
       "      <td>0.008235429999999997</td>\n",
       "      <td>39.557781208057506</td>\n",
       "      <td>138</td>\n",
       "      <td>NaN</td>\n",
       "      <td>NaN</td>\n",
       "    </tr>\n",
       "  </tbody>\n",
       "</table>\n",
       "</div>"
      ],
      "text/plain": [
       "                           path   dialect  success final_k  \\\n",
       "0  common_voice_ca_38406828.mp3  valencià        1       8   \n",
       "1  common_voice_ca_38363523.mp3  valencià        1       8   \n",
       "2  common_voice_ca_38943678.mp3  valencià        1       8   \n",
       "3  common_voice_ca_39907748.mp3  valencià        1       6   \n",
       "4  common_voice_ca_31314438.mp3  valencià        1       8   \n",
       "\n",
       "          final_epsilon quietest_attack_snr num_iter last_wer  \\\n",
       "0  0.008235429999999997   38.25491223850573      254      NaN   \n",
       "1  0.008235429999999997  23.644586133885408      112      NaN   \n",
       "2  0.008235429999999997   38.69978351177139      116      NaN   \n",
       "3  0.016806999999999996    33.6428054872276     2000      NaN   \n",
       "4  0.008235429999999997  39.557781208057506      138      NaN   \n",
       "\n",
       "  last_transcription  \n",
       "0                NaN  \n",
       "1                NaN  \n",
       "2                NaN  \n",
       "3                NaN  \n",
       "4                NaN  "
      ]
     },
     "execution_count": 14,
     "metadata": {},
     "output_type": "execute_result"
    }
   ],
   "source": [
    "df_50=pd.read_csv(\"../experiments/central50_53m_v01/eval/attack_stats.tsv\",delimiter=\"\\t\")\n",
    "df_50.replace(\"NONE\",np.nan,inplace=True)\n",
    "df_50.head()"
   ]
  },
  {
   "cell_type": "code",
   "execution_count": 5,
   "metadata": {},
   "outputs": [
    {
     "name": "stdout",
     "output_type": "stream",
     "text": [
      "valencià:\t0.98\n",
      "central:\t0.96\n",
      "nord:\t0.98\n",
      "nord-occidental:\t0.92\n",
      "balear:\t0.96\n",
      "Overall Attack Success rate: 0.96\n"
     ]
    }
   ],
   "source": [
    "for dial in ['valencià','central','nord','nord-occidental','balear']:\n",
    "    df_temp = df_50[df_50['dialect']==dial]\n",
    "    print(f\"{dial}:\\t{np.sum(df_temp['success'])/len(df_temp)}\")\n",
    "print(f\"Overall Attack Success rate: {df_50['success'].mean()}\")"
   ]
  },
  {
   "cell_type": "code",
   "execution_count": 6,
   "metadata": {},
   "outputs": [
    {
     "name": "stdout",
     "output_type": "stream",
     "text": [
      "valencià:\t35.93410029423501\n",
      "central:\t36.421400086385425\n",
      "nord:\t34.3452586605677\n",
      "nord-occidental:\t36.64360574769933\n",
      "balear:\t37.786133789187005\n",
      "Overall Average SNR: 36.21356699669574\n"
     ]
    }
   ],
   "source": [
    "for dial in ['valencià','central','nord','nord-occidental','balear']:\n",
    "    df_temp = df_50[(df_50['dialect']==dial)&(df_50['success']==1)]\n",
    "    print(f\"{dial}:\\t{df_temp['quietest_attack_snr'].astype(float).mean()}\")\n",
    "df_all_cor = df_50[df_50['success']==1]\n",
    "print(f\"Overall Average SNR: {df_all_cor['quietest_attack_snr'].astype(float).mean()}\")"
   ]
  },
  {
   "cell_type": "markdown",
   "metadata": {},
   "source": [
    "## Repeat, now with the 20% Central Catalan model"
   ]
  },
  {
   "cell_type": "code",
   "execution_count": 3,
   "metadata": {},
   "outputs": [
    {
     "data": {
      "text/html": [
       "<div>\n",
       "<style scoped>\n",
       "    .dataframe tbody tr th:only-of-type {\n",
       "        vertical-align: middle;\n",
       "    }\n",
       "\n",
       "    .dataframe tbody tr th {\n",
       "        vertical-align: top;\n",
       "    }\n",
       "\n",
       "    .dataframe thead th {\n",
       "        text-align: right;\n",
       "    }\n",
       "</style>\n",
       "<table border=\"1\" class=\"dataframe\">\n",
       "  <thead>\n",
       "    <tr style=\"text-align: right;\">\n",
       "      <th></th>\n",
       "      <th>path</th>\n",
       "      <th>dialect</th>\n",
       "      <th>success</th>\n",
       "      <th>final_k</th>\n",
       "      <th>final_epsilon</th>\n",
       "      <th>quietest_attack_snr</th>\n",
       "      <th>num_iter</th>\n",
       "      <th>last_wer</th>\n",
       "      <th>last_transcription</th>\n",
       "    </tr>\n",
       "  </thead>\n",
       "  <tbody>\n",
       "    <tr>\n",
       "      <th>0</th>\n",
       "      <td>common_voice_ca_38406828.mp3</td>\n",
       "      <td>valencià</td>\n",
       "      <td>1</td>\n",
       "      <td>8</td>\n",
       "      <td>0.008235429999999997</td>\n",
       "      <td>38.25491223850573</td>\n",
       "      <td>433</td>\n",
       "      <td>NaN</td>\n",
       "      <td>NaN</td>\n",
       "    </tr>\n",
       "    <tr>\n",
       "      <th>1</th>\n",
       "      <td>common_voice_ca_38363523.mp3</td>\n",
       "      <td>valencià</td>\n",
       "      <td>1</td>\n",
       "      <td>8</td>\n",
       "      <td>0.008235429999999997</td>\n",
       "      <td>23.644586133885408</td>\n",
       "      <td>126</td>\n",
       "      <td>NaN</td>\n",
       "      <td>NaN</td>\n",
       "    </tr>\n",
       "    <tr>\n",
       "      <th>2</th>\n",
       "      <td>common_voice_ca_38943678.mp3</td>\n",
       "      <td>valencià</td>\n",
       "      <td>1</td>\n",
       "      <td>7</td>\n",
       "      <td>0.011764899999999997</td>\n",
       "      <td>35.60174480318844</td>\n",
       "      <td>2000</td>\n",
       "      <td>NaN</td>\n",
       "      <td>NaN</td>\n",
       "    </tr>\n",
       "    <tr>\n",
       "      <th>3</th>\n",
       "      <td>common_voice_ca_39907748.mp3</td>\n",
       "      <td>valencià</td>\n",
       "      <td>1</td>\n",
       "      <td>7</td>\n",
       "      <td>0.011764899999999997</td>\n",
       "      <td>36.740844411908576</td>\n",
       "      <td>2000</td>\n",
       "      <td>NaN</td>\n",
       "      <td>NaN</td>\n",
       "    </tr>\n",
       "    <tr>\n",
       "      <th>4</th>\n",
       "      <td>common_voice_ca_31314438.mp3</td>\n",
       "      <td>valencià</td>\n",
       "      <td>1</td>\n",
       "      <td>8</td>\n",
       "      <td>0.008235429999999997</td>\n",
       "      <td>39.557781208057506</td>\n",
       "      <td>351</td>\n",
       "      <td>NaN</td>\n",
       "      <td>NaN</td>\n",
       "    </tr>\n",
       "  </tbody>\n",
       "</table>\n",
       "</div>"
      ],
      "text/plain": [
       "                           path   dialect  success final_k  \\\n",
       "0  common_voice_ca_38406828.mp3  valencià        1       8   \n",
       "1  common_voice_ca_38363523.mp3  valencià        1       8   \n",
       "2  common_voice_ca_38943678.mp3  valencià        1       7   \n",
       "3  common_voice_ca_39907748.mp3  valencià        1       7   \n",
       "4  common_voice_ca_31314438.mp3  valencià        1       8   \n",
       "\n",
       "          final_epsilon quietest_attack_snr num_iter last_wer  \\\n",
       "0  0.008235429999999997   38.25491223850573      433      NaN   \n",
       "1  0.008235429999999997  23.644586133885408      126      NaN   \n",
       "2  0.011764899999999997   35.60174480318844     2000      NaN   \n",
       "3  0.011764899999999997  36.740844411908576     2000      NaN   \n",
       "4  0.008235429999999997  39.557781208057506      351      NaN   \n",
       "\n",
       "  last_transcription  \n",
       "0                NaN  \n",
       "1                NaN  \n",
       "2                NaN  \n",
       "3                NaN  \n",
       "4                NaN  "
      ]
     },
     "execution_count": 3,
     "metadata": {},
     "output_type": "execute_result"
    }
   ],
   "source": [
    "df_20=pd.read_csv(\"../experiments/central20_53m_v01/eval/attack_stats.tsv\",delimiter=\"\\t\")\n",
    "df_20.replace(\"NONE\",np.nan,inplace=True)\n",
    "df_20.head()"
   ]
  },
  {
   "cell_type": "code",
   "execution_count": 4,
   "metadata": {},
   "outputs": [
    {
     "name": "stdout",
     "output_type": "stream",
     "text": [
      "valencià:\t0.82\n",
      "central:\t0.94\n",
      "nord:\t0.88\n",
      "nord-occidental:\t0.82\n",
      "balear:\t0.86\n",
      "Overall Attack Success rate: 0.864\n"
     ]
    }
   ],
   "source": [
    "for dial in ['valencià','central','nord','nord-occidental','balear']:\n",
    "    df_temp = df_20[df_20['dialect']==dial]\n",
    "    print(f\"{dial}:\\t{np.sum(df_temp['success'])/len(df_temp)}\")\n",
    "print(f\"Overall Attack Success rate: {df_20['success'].mean()}\")"
   ]
  },
  {
   "cell_type": "code",
   "execution_count": 5,
   "metadata": {},
   "outputs": [
    {
     "name": "stdout",
     "output_type": "stream",
     "text": [
      "valencià:\t35.24148477913594\n",
      "central:\t34.96828468460201\n",
      "nord:\t34.026268026578\n",
      "nord-occidental:\t36.059296449764794\n",
      "balear:\t37.614310569933636\n",
      "Overall Average SNR: 35.56209517702687\n"
     ]
    }
   ],
   "source": [
    "for dial in ['valencià','central','nord','nord-occidental','balear']:\n",
    "    df_temp = df_20[(df_20['dialect']==dial)&(df_20['success']==1)]\n",
    "    print(f\"{dial}:\\t{df_temp['quietest_attack_snr'].astype(float).mean()}\")\n",
    "df_all_cor = df_20[df_20['success']==1]\n",
    "print(f\"Overall Average SNR: {df_all_cor['quietest_attack_snr'].astype(float).mean()}\")"
   ]
  },
  {
   "cell_type": "markdown",
   "metadata": {},
   "source": [
    "Let's visualize everything"
   ]
  },
  {
   "cell_type": "code",
   "execution_count": 6,
   "metadata": {},
   "outputs": [],
   "source": [
    "import plotly.express as px"
   ]
  },
  {
   "cell_type": "code",
   "execution_count": 15,
   "metadata": {},
   "outputs": [],
   "source": [
    "df_100['model'] = '100% Central'\n",
    "df_80['model'] = '80% Central'\n",
    "df_50['model'] = '50% Central'\n",
    "df_20['model'] = '20% Central'"
   ]
  },
  {
   "cell_type": "code",
   "execution_count": 16,
   "metadata": {},
   "outputs": [],
   "source": [
    "df_full = pd.concat([df_100,df_80,df_50,df_20])"
   ]
  },
  {
   "cell_type": "code",
   "execution_count": 18,
   "metadata": {},
   "outputs": [
    {
     "data": {
      "text/html": [
       "<div>\n",
       "<style scoped>\n",
       "    .dataframe tbody tr th:only-of-type {\n",
       "        vertical-align: middle;\n",
       "    }\n",
       "\n",
       "    .dataframe tbody tr th {\n",
       "        vertical-align: top;\n",
       "    }\n",
       "\n",
       "    .dataframe thead th {\n",
       "        text-align: right;\n",
       "    }\n",
       "</style>\n",
       "<table border=\"1\" class=\"dataframe\">\n",
       "  <thead>\n",
       "    <tr style=\"text-align: right;\">\n",
       "      <th></th>\n",
       "      <th>path</th>\n",
       "      <th>dialect</th>\n",
       "      <th>success</th>\n",
       "      <th>final_k</th>\n",
       "      <th>final_epsilon</th>\n",
       "      <th>quietest_attack_snr</th>\n",
       "      <th>num_iter</th>\n",
       "      <th>last_wer</th>\n",
       "      <th>last_transcription</th>\n",
       "      <th>model</th>\n",
       "    </tr>\n",
       "  </thead>\n",
       "  <tbody>\n",
       "    <tr>\n",
       "      <th>0</th>\n",
       "      <td>common_voice_ca_38406828.mp3</td>\n",
       "      <td>valencià</td>\n",
       "      <td>1</td>\n",
       "      <td>1</td>\n",
       "      <td>0.1</td>\n",
       "      <td>16.568638074878482</td>\n",
       "      <td>2000</td>\n",
       "      <td>NaN</td>\n",
       "      <td>NaN</td>\n",
       "      <td>100% Central</td>\n",
       "    </tr>\n",
       "    <tr>\n",
       "      <th>1</th>\n",
       "      <td>common_voice_ca_38363523.mp3</td>\n",
       "      <td>valencià</td>\n",
       "      <td>1</td>\n",
       "      <td>8</td>\n",
       "      <td>0.008235429999999997</td>\n",
       "      <td>23.644586133885408</td>\n",
       "      <td>140</td>\n",
       "      <td>NaN</td>\n",
       "      <td>NaN</td>\n",
       "      <td>100% Central</td>\n",
       "    </tr>\n",
       "    <tr>\n",
       "      <th>2</th>\n",
       "      <td>common_voice_ca_38943678.mp3</td>\n",
       "      <td>valencià</td>\n",
       "      <td>1</td>\n",
       "      <td>8</td>\n",
       "      <td>0.008235429999999997</td>\n",
       "      <td>38.69978351177139</td>\n",
       "      <td>364</td>\n",
       "      <td>NaN</td>\n",
       "      <td>NaN</td>\n",
       "      <td>100% Central</td>\n",
       "    </tr>\n",
       "    <tr>\n",
       "      <th>3</th>\n",
       "      <td>common_voice_ca_39907748.mp3</td>\n",
       "      <td>valencià</td>\n",
       "      <td>1</td>\n",
       "      <td>7</td>\n",
       "      <td>0.011764899999999997</td>\n",
       "      <td>36.740844411908576</td>\n",
       "      <td>2000</td>\n",
       "      <td>NaN</td>\n",
       "      <td>NaN</td>\n",
       "      <td>100% Central</td>\n",
       "    </tr>\n",
       "    <tr>\n",
       "      <th>4</th>\n",
       "      <td>common_voice_ca_31314438.mp3</td>\n",
       "      <td>valencià</td>\n",
       "      <td>1</td>\n",
       "      <td>8</td>\n",
       "      <td>0.008235429999999997</td>\n",
       "      <td>39.557781208057506</td>\n",
       "      <td>211</td>\n",
       "      <td>NaN</td>\n",
       "      <td>NaN</td>\n",
       "      <td>100% Central</td>\n",
       "    </tr>\n",
       "  </tbody>\n",
       "</table>\n",
       "</div>"
      ],
      "text/plain": [
       "                           path   dialect  success final_k  \\\n",
       "0  common_voice_ca_38406828.mp3  valencià        1       1   \n",
       "1  common_voice_ca_38363523.mp3  valencià        1       8   \n",
       "2  common_voice_ca_38943678.mp3  valencià        1       8   \n",
       "3  common_voice_ca_39907748.mp3  valencià        1       7   \n",
       "4  common_voice_ca_31314438.mp3  valencià        1       8   \n",
       "\n",
       "          final_epsilon quietest_attack_snr num_iter last_wer  \\\n",
       "0                   0.1  16.568638074878482     2000      NaN   \n",
       "1  0.008235429999999997  23.644586133885408      140      NaN   \n",
       "2  0.008235429999999997   38.69978351177139      364      NaN   \n",
       "3  0.011764899999999997  36.740844411908576     2000      NaN   \n",
       "4  0.008235429999999997  39.557781208057506      211      NaN   \n",
       "\n",
       "  last_transcription         model  \n",
       "0                NaN  100% Central  \n",
       "1                NaN  100% Central  \n",
       "2                NaN  100% Central  \n",
       "3                NaN  100% Central  \n",
       "4                NaN  100% Central  "
      ]
     },
     "execution_count": 18,
     "metadata": {},
     "output_type": "execute_result"
    }
   ],
   "source": [
    "df_full.head()"
   ]
  },
  {
   "cell_type": "code",
   "execution_count": 20,
   "metadata": {},
   "outputs": [
    {
     "data": {
      "text/html": [
       "<div>\n",
       "<style scoped>\n",
       "    .dataframe tbody tr th:only-of-type {\n",
       "        vertical-align: middle;\n",
       "    }\n",
       "\n",
       "    .dataframe tbody tr th {\n",
       "        vertical-align: top;\n",
       "    }\n",
       "\n",
       "    .dataframe thead th {\n",
       "        text-align: right;\n",
       "    }\n",
       "</style>\n",
       "<table border=\"1\" class=\"dataframe\">\n",
       "  <thead>\n",
       "    <tr style=\"text-align: right;\">\n",
       "      <th></th>\n",
       "      <th>dialect</th>\n",
       "      <th>success</th>\n",
       "      <th>quietest_attack_snr</th>\n",
       "      <th>model</th>\n",
       "    </tr>\n",
       "  </thead>\n",
       "  <tbody>\n",
       "    <tr>\n",
       "      <th>0</th>\n",
       "      <td>valencià</td>\n",
       "      <td>1</td>\n",
       "      <td>16.568638074878482</td>\n",
       "      <td>100% Central</td>\n",
       "    </tr>\n",
       "    <tr>\n",
       "      <th>1</th>\n",
       "      <td>valencià</td>\n",
       "      <td>1</td>\n",
       "      <td>23.644586133885408</td>\n",
       "      <td>100% Central</td>\n",
       "    </tr>\n",
       "    <tr>\n",
       "      <th>2</th>\n",
       "      <td>valencià</td>\n",
       "      <td>1</td>\n",
       "      <td>38.69978351177139</td>\n",
       "      <td>100% Central</td>\n",
       "    </tr>\n",
       "    <tr>\n",
       "      <th>3</th>\n",
       "      <td>valencià</td>\n",
       "      <td>1</td>\n",
       "      <td>36.740844411908576</td>\n",
       "      <td>100% Central</td>\n",
       "    </tr>\n",
       "    <tr>\n",
       "      <th>4</th>\n",
       "      <td>valencià</td>\n",
       "      <td>1</td>\n",
       "      <td>39.557781208057506</td>\n",
       "      <td>100% Central</td>\n",
       "    </tr>\n",
       "  </tbody>\n",
       "</table>\n",
       "</div>"
      ],
      "text/plain": [
       "    dialect  success quietest_attack_snr         model\n",
       "0  valencià        1  16.568638074878482  100% Central\n",
       "1  valencià        1  23.644586133885408  100% Central\n",
       "2  valencià        1   38.69978351177139  100% Central\n",
       "3  valencià        1  36.740844411908576  100% Central\n",
       "4  valencià        1  39.557781208057506  100% Central"
      ]
     },
     "execution_count": 20,
     "metadata": {},
     "output_type": "execute_result"
    }
   ],
   "source": [
    "df_full.drop(columns=['path','final_k','final_epsilon','num_iter','last_wer','last_transcription'],inplace=True)\n",
    "df_full.head()"
   ]
  },
  {
   "cell_type": "code",
   "execution_count": 36,
   "metadata": {},
   "outputs": [],
   "source": [
    "df_full['success']=df_full['success'].astype(int)\n",
    "df_full['quietest_attack_snr']=df_full['quietest_attack_snr'].astype(float)"
   ]
  },
  {
   "cell_type": "code",
   "execution_count": 43,
   "metadata": {},
   "outputs": [],
   "source": [
    "df_full=df_full.groupby(['dialect','model']).mean()"
   ]
  },
  {
   "cell_type": "code",
   "execution_count": 44,
   "metadata": {},
   "outputs": [
    {
     "data": {
      "text/html": [
       "<div>\n",
       "<style scoped>\n",
       "    .dataframe tbody tr th:only-of-type {\n",
       "        vertical-align: middle;\n",
       "    }\n",
       "\n",
       "    .dataframe tbody tr th {\n",
       "        vertical-align: top;\n",
       "    }\n",
       "\n",
       "    .dataframe thead th {\n",
       "        text-align: right;\n",
       "    }\n",
       "</style>\n",
       "<table border=\"1\" class=\"dataframe\">\n",
       "  <thead>\n",
       "    <tr style=\"text-align: right;\">\n",
       "      <th></th>\n",
       "      <th></th>\n",
       "      <th>success</th>\n",
       "      <th>quietest_attack_snr</th>\n",
       "    </tr>\n",
       "    <tr>\n",
       "      <th>dialect</th>\n",
       "      <th>model</th>\n",
       "      <th></th>\n",
       "      <th></th>\n",
       "    </tr>\n",
       "  </thead>\n",
       "  <tbody>\n",
       "    <tr>\n",
       "      <th rowspan=\"4\" valign=\"top\">balear</th>\n",
       "      <th>100% Central</th>\n",
       "      <td>0.84</td>\n",
       "      <td>36.412597</td>\n",
       "    </tr>\n",
       "    <tr>\n",
       "      <th>20% Central</th>\n",
       "      <td>0.86</td>\n",
       "      <td>37.614311</td>\n",
       "    </tr>\n",
       "    <tr>\n",
       "      <th>50% Central</th>\n",
       "      <td>0.96</td>\n",
       "      <td>37.786134</td>\n",
       "    </tr>\n",
       "    <tr>\n",
       "      <th>80% Central</th>\n",
       "      <td>0.78</td>\n",
       "      <td>36.618359</td>\n",
       "    </tr>\n",
       "    <tr>\n",
       "      <th>central</th>\n",
       "      <th>100% Central</th>\n",
       "      <td>0.84</td>\n",
       "      <td>35.930038</td>\n",
       "    </tr>\n",
       "  </tbody>\n",
       "</table>\n",
       "</div>"
      ],
      "text/plain": [
       "                      success  quietest_attack_snr\n",
       "dialect model                                     \n",
       "balear  100% Central     0.84            36.412597\n",
       "        20% Central      0.86            37.614311\n",
       "        50% Central      0.96            37.786134\n",
       "        80% Central      0.78            36.618359\n",
       "central 100% Central     0.84            35.930038"
      ]
     },
     "execution_count": 44,
     "metadata": {},
     "output_type": "execute_result"
    }
   ],
   "source": [
    "df_full.head()"
   ]
  },
  {
   "cell_type": "code",
   "execution_count": 51,
   "metadata": {},
   "outputs": [
    {
     "data": {
      "text/plain": [
       "'model'"
      ]
     },
     "execution_count": 51,
     "metadata": {},
     "output_type": "execute_result"
    }
   ],
   "source": [
    "df_full.index.names[1]"
   ]
  },
  {
   "cell_type": "code",
   "execution_count": 74,
   "metadata": {},
   "outputs": [
    {
     "data": {
      "application/vnd.plotly.v1+json": {
       "config": {
        "plotlyServerURL": "https://plot.ly"
       },
       "data": [
        {
         "alignmentgroup": "True",
         "hovertemplate": "Attack Dialect=balear<br>x=%{x}<br>success=%{y}<extra></extra>",
         "legendgroup": "balear",
         "marker": {
          "color": "#636efa",
          "pattern": {
           "shape": ""
          }
         },
         "name": "balear",
         "offsetgroup": "balear",
         "orientation": "v",
         "showlegend": true,
         "textposition": "auto",
         "type": "bar",
         "x": [
          "100% Central",
          "20% Central",
          "50% Central",
          "80% Central"
         ],
         "xaxis": "x",
         "y": [
          0.84,
          0.86,
          0.96,
          0.78
         ],
         "yaxis": "y"
        },
        {
         "alignmentgroup": "True",
         "hovertemplate": "Attack Dialect=central<br>x=%{x}<br>success=%{y}<extra></extra>",
         "legendgroup": "central",
         "marker": {
          "color": "#EF553B",
          "pattern": {
           "shape": ""
          }
         },
         "name": "central",
         "offsetgroup": "central",
         "orientation": "v",
         "showlegend": true,
         "textposition": "auto",
         "type": "bar",
         "x": [
          "100% Central",
          "20% Central",
          "50% Central",
          "80% Central"
         ],
         "xaxis": "x",
         "y": [
          0.84,
          0.94,
          0.96,
          0.76
         ],
         "yaxis": "y"
        },
        {
         "alignmentgroup": "True",
         "hovertemplate": "Attack Dialect=nord<br>x=%{x}<br>success=%{y}<extra></extra>",
         "legendgroup": "nord",
         "marker": {
          "color": "#00cc96",
          "pattern": {
           "shape": ""
          }
         },
         "name": "nord",
         "offsetgroup": "nord",
         "orientation": "v",
         "showlegend": true,
         "textposition": "auto",
         "type": "bar",
         "x": [
          "100% Central",
          "20% Central",
          "50% Central",
          "80% Central"
         ],
         "xaxis": "x",
         "y": [
          0.88,
          0.88,
          0.98,
          0.84
         ],
         "yaxis": "y"
        },
        {
         "alignmentgroup": "True",
         "hovertemplate": "Attack Dialect=nord-occidental<br>x=%{x}<br>success=%{y}<extra></extra>",
         "legendgroup": "nord-occidental",
         "marker": {
          "color": "#ab63fa",
          "pattern": {
           "shape": ""
          }
         },
         "name": "nord-occidental",
         "offsetgroup": "nord-occidental",
         "orientation": "v",
         "showlegend": true,
         "textposition": "auto",
         "type": "bar",
         "x": [
          "100% Central",
          "20% Central",
          "50% Central",
          "80% Central"
         ],
         "xaxis": "x",
         "y": [
          0.86,
          0.82,
          0.92,
          0.86
         ],
         "yaxis": "y"
        },
        {
         "alignmentgroup": "True",
         "hovertemplate": "Attack Dialect=valencià<br>x=%{x}<br>success=%{y}<extra></extra>",
         "legendgroup": "valencià",
         "marker": {
          "color": "#FFA15A",
          "pattern": {
           "shape": ""
          }
         },
         "name": "valencià",
         "offsetgroup": "valencià",
         "orientation": "v",
         "showlegend": true,
         "textposition": "auto",
         "type": "bar",
         "x": [
          "100% Central",
          "20% Central",
          "50% Central",
          "80% Central"
         ],
         "xaxis": "x",
         "y": [
          0.84,
          0.82,
          0.98,
          0.86
         ],
         "yaxis": "y"
        }
       ],
       "layout": {
        "barmode": "group",
        "legend": {
         "title": {
          "text": "Attack Dialect"
         },
         "tracegroupgap": 0
        },
        "template": {
         "data": {
          "bar": [
           {
            "error_x": {
             "color": "#2a3f5f"
            },
            "error_y": {
             "color": "#2a3f5f"
            },
            "marker": {
             "line": {
              "color": "#E5ECF6",
              "width": 0.5
             },
             "pattern": {
              "fillmode": "overlay",
              "size": 10,
              "solidity": 0.2
             }
            },
            "type": "bar"
           }
          ],
          "barpolar": [
           {
            "marker": {
             "line": {
              "color": "#E5ECF6",
              "width": 0.5
             },
             "pattern": {
              "fillmode": "overlay",
              "size": 10,
              "solidity": 0.2
             }
            },
            "type": "barpolar"
           }
          ],
          "carpet": [
           {
            "aaxis": {
             "endlinecolor": "#2a3f5f",
             "gridcolor": "white",
             "linecolor": "white",
             "minorgridcolor": "white",
             "startlinecolor": "#2a3f5f"
            },
            "baxis": {
             "endlinecolor": "#2a3f5f",
             "gridcolor": "white",
             "linecolor": "white",
             "minorgridcolor": "white",
             "startlinecolor": "#2a3f5f"
            },
            "type": "carpet"
           }
          ],
          "choropleth": [
           {
            "colorbar": {
             "outlinewidth": 0,
             "ticks": ""
            },
            "type": "choropleth"
           }
          ],
          "contour": [
           {
            "colorbar": {
             "outlinewidth": 0,
             "ticks": ""
            },
            "colorscale": [
             [
              0,
              "#0d0887"
             ],
             [
              0.1111111111111111,
              "#46039f"
             ],
             [
              0.2222222222222222,
              "#7201a8"
             ],
             [
              0.3333333333333333,
              "#9c179e"
             ],
             [
              0.4444444444444444,
              "#bd3786"
             ],
             [
              0.5555555555555556,
              "#d8576b"
             ],
             [
              0.6666666666666666,
              "#ed7953"
             ],
             [
              0.7777777777777778,
              "#fb9f3a"
             ],
             [
              0.8888888888888888,
              "#fdca26"
             ],
             [
              1,
              "#f0f921"
             ]
            ],
            "type": "contour"
           }
          ],
          "contourcarpet": [
           {
            "colorbar": {
             "outlinewidth": 0,
             "ticks": ""
            },
            "type": "contourcarpet"
           }
          ],
          "heatmap": [
           {
            "colorbar": {
             "outlinewidth": 0,
             "ticks": ""
            },
            "colorscale": [
             [
              0,
              "#0d0887"
             ],
             [
              0.1111111111111111,
              "#46039f"
             ],
             [
              0.2222222222222222,
              "#7201a8"
             ],
             [
              0.3333333333333333,
              "#9c179e"
             ],
             [
              0.4444444444444444,
              "#bd3786"
             ],
             [
              0.5555555555555556,
              "#d8576b"
             ],
             [
              0.6666666666666666,
              "#ed7953"
             ],
             [
              0.7777777777777778,
              "#fb9f3a"
             ],
             [
              0.8888888888888888,
              "#fdca26"
             ],
             [
              1,
              "#f0f921"
             ]
            ],
            "type": "heatmap"
           }
          ],
          "heatmapgl": [
           {
            "colorbar": {
             "outlinewidth": 0,
             "ticks": ""
            },
            "colorscale": [
             [
              0,
              "#0d0887"
             ],
             [
              0.1111111111111111,
              "#46039f"
             ],
             [
              0.2222222222222222,
              "#7201a8"
             ],
             [
              0.3333333333333333,
              "#9c179e"
             ],
             [
              0.4444444444444444,
              "#bd3786"
             ],
             [
              0.5555555555555556,
              "#d8576b"
             ],
             [
              0.6666666666666666,
              "#ed7953"
             ],
             [
              0.7777777777777778,
              "#fb9f3a"
             ],
             [
              0.8888888888888888,
              "#fdca26"
             ],
             [
              1,
              "#f0f921"
             ]
            ],
            "type": "heatmapgl"
           }
          ],
          "histogram": [
           {
            "marker": {
             "pattern": {
              "fillmode": "overlay",
              "size": 10,
              "solidity": 0.2
             }
            },
            "type": "histogram"
           }
          ],
          "histogram2d": [
           {
            "colorbar": {
             "outlinewidth": 0,
             "ticks": ""
            },
            "colorscale": [
             [
              0,
              "#0d0887"
             ],
             [
              0.1111111111111111,
              "#46039f"
             ],
             [
              0.2222222222222222,
              "#7201a8"
             ],
             [
              0.3333333333333333,
              "#9c179e"
             ],
             [
              0.4444444444444444,
              "#bd3786"
             ],
             [
              0.5555555555555556,
              "#d8576b"
             ],
             [
              0.6666666666666666,
              "#ed7953"
             ],
             [
              0.7777777777777778,
              "#fb9f3a"
             ],
             [
              0.8888888888888888,
              "#fdca26"
             ],
             [
              1,
              "#f0f921"
             ]
            ],
            "type": "histogram2d"
           }
          ],
          "histogram2dcontour": [
           {
            "colorbar": {
             "outlinewidth": 0,
             "ticks": ""
            },
            "colorscale": [
             [
              0,
              "#0d0887"
             ],
             [
              0.1111111111111111,
              "#46039f"
             ],
             [
              0.2222222222222222,
              "#7201a8"
             ],
             [
              0.3333333333333333,
              "#9c179e"
             ],
             [
              0.4444444444444444,
              "#bd3786"
             ],
             [
              0.5555555555555556,
              "#d8576b"
             ],
             [
              0.6666666666666666,
              "#ed7953"
             ],
             [
              0.7777777777777778,
              "#fb9f3a"
             ],
             [
              0.8888888888888888,
              "#fdca26"
             ],
             [
              1,
              "#f0f921"
             ]
            ],
            "type": "histogram2dcontour"
           }
          ],
          "mesh3d": [
           {
            "colorbar": {
             "outlinewidth": 0,
             "ticks": ""
            },
            "type": "mesh3d"
           }
          ],
          "parcoords": [
           {
            "line": {
             "colorbar": {
              "outlinewidth": 0,
              "ticks": ""
             }
            },
            "type": "parcoords"
           }
          ],
          "pie": [
           {
            "automargin": true,
            "type": "pie"
           }
          ],
          "scatter": [
           {
            "fillpattern": {
             "fillmode": "overlay",
             "size": 10,
             "solidity": 0.2
            },
            "type": "scatter"
           }
          ],
          "scatter3d": [
           {
            "line": {
             "colorbar": {
              "outlinewidth": 0,
              "ticks": ""
             }
            },
            "marker": {
             "colorbar": {
              "outlinewidth": 0,
              "ticks": ""
             }
            },
            "type": "scatter3d"
           }
          ],
          "scattercarpet": [
           {
            "marker": {
             "colorbar": {
              "outlinewidth": 0,
              "ticks": ""
             }
            },
            "type": "scattercarpet"
           }
          ],
          "scattergeo": [
           {
            "marker": {
             "colorbar": {
              "outlinewidth": 0,
              "ticks": ""
             }
            },
            "type": "scattergeo"
           }
          ],
          "scattergl": [
           {
            "marker": {
             "colorbar": {
              "outlinewidth": 0,
              "ticks": ""
             }
            },
            "type": "scattergl"
           }
          ],
          "scattermapbox": [
           {
            "marker": {
             "colorbar": {
              "outlinewidth": 0,
              "ticks": ""
             }
            },
            "type": "scattermapbox"
           }
          ],
          "scatterpolar": [
           {
            "marker": {
             "colorbar": {
              "outlinewidth": 0,
              "ticks": ""
             }
            },
            "type": "scatterpolar"
           }
          ],
          "scatterpolargl": [
           {
            "marker": {
             "colorbar": {
              "outlinewidth": 0,
              "ticks": ""
             }
            },
            "type": "scatterpolargl"
           }
          ],
          "scatterternary": [
           {
            "marker": {
             "colorbar": {
              "outlinewidth": 0,
              "ticks": ""
             }
            },
            "type": "scatterternary"
           }
          ],
          "surface": [
           {
            "colorbar": {
             "outlinewidth": 0,
             "ticks": ""
            },
            "colorscale": [
             [
              0,
              "#0d0887"
             ],
             [
              0.1111111111111111,
              "#46039f"
             ],
             [
              0.2222222222222222,
              "#7201a8"
             ],
             [
              0.3333333333333333,
              "#9c179e"
             ],
             [
              0.4444444444444444,
              "#bd3786"
             ],
             [
              0.5555555555555556,
              "#d8576b"
             ],
             [
              0.6666666666666666,
              "#ed7953"
             ],
             [
              0.7777777777777778,
              "#fb9f3a"
             ],
             [
              0.8888888888888888,
              "#fdca26"
             ],
             [
              1,
              "#f0f921"
             ]
            ],
            "type": "surface"
           }
          ],
          "table": [
           {
            "cells": {
             "fill": {
              "color": "#EBF0F8"
             },
             "line": {
              "color": "white"
             }
            },
            "header": {
             "fill": {
              "color": "#C8D4E3"
             },
             "line": {
              "color": "white"
             }
            },
            "type": "table"
           }
          ]
         },
         "layout": {
          "annotationdefaults": {
           "arrowcolor": "#2a3f5f",
           "arrowhead": 0,
           "arrowwidth": 1
          },
          "autotypenumbers": "strict",
          "coloraxis": {
           "colorbar": {
            "outlinewidth": 0,
            "ticks": ""
           }
          },
          "colorscale": {
           "diverging": [
            [
             0,
             "#8e0152"
            ],
            [
             0.1,
             "#c51b7d"
            ],
            [
             0.2,
             "#de77ae"
            ],
            [
             0.3,
             "#f1b6da"
            ],
            [
             0.4,
             "#fde0ef"
            ],
            [
             0.5,
             "#f7f7f7"
            ],
            [
             0.6,
             "#e6f5d0"
            ],
            [
             0.7,
             "#b8e186"
            ],
            [
             0.8,
             "#7fbc41"
            ],
            [
             0.9,
             "#4d9221"
            ],
            [
             1,
             "#276419"
            ]
           ],
           "sequential": [
            [
             0,
             "#0d0887"
            ],
            [
             0.1111111111111111,
             "#46039f"
            ],
            [
             0.2222222222222222,
             "#7201a8"
            ],
            [
             0.3333333333333333,
             "#9c179e"
            ],
            [
             0.4444444444444444,
             "#bd3786"
            ],
            [
             0.5555555555555556,
             "#d8576b"
            ],
            [
             0.6666666666666666,
             "#ed7953"
            ],
            [
             0.7777777777777778,
             "#fb9f3a"
            ],
            [
             0.8888888888888888,
             "#fdca26"
            ],
            [
             1,
             "#f0f921"
            ]
           ],
           "sequentialminus": [
            [
             0,
             "#0d0887"
            ],
            [
             0.1111111111111111,
             "#46039f"
            ],
            [
             0.2222222222222222,
             "#7201a8"
            ],
            [
             0.3333333333333333,
             "#9c179e"
            ],
            [
             0.4444444444444444,
             "#bd3786"
            ],
            [
             0.5555555555555556,
             "#d8576b"
            ],
            [
             0.6666666666666666,
             "#ed7953"
            ],
            [
             0.7777777777777778,
             "#fb9f3a"
            ],
            [
             0.8888888888888888,
             "#fdca26"
            ],
            [
             1,
             "#f0f921"
            ]
           ]
          },
          "colorway": [
           "#636efa",
           "#EF553B",
           "#00cc96",
           "#ab63fa",
           "#FFA15A",
           "#19d3f3",
           "#FF6692",
           "#B6E880",
           "#FF97FF",
           "#FECB52"
          ],
          "font": {
           "color": "#2a3f5f"
          },
          "geo": {
           "bgcolor": "white",
           "lakecolor": "white",
           "landcolor": "#E5ECF6",
           "showlakes": true,
           "showland": true,
           "subunitcolor": "white"
          },
          "hoverlabel": {
           "align": "left"
          },
          "hovermode": "closest",
          "mapbox": {
           "style": "light"
          },
          "paper_bgcolor": "white",
          "plot_bgcolor": "#E5ECF6",
          "polar": {
           "angularaxis": {
            "gridcolor": "white",
            "linecolor": "white",
            "ticks": ""
           },
           "bgcolor": "#E5ECF6",
           "radialaxis": {
            "gridcolor": "white",
            "linecolor": "white",
            "ticks": ""
           }
          },
          "scene": {
           "xaxis": {
            "backgroundcolor": "#E5ECF6",
            "gridcolor": "white",
            "gridwidth": 2,
            "linecolor": "white",
            "showbackground": true,
            "ticks": "",
            "zerolinecolor": "white"
           },
           "yaxis": {
            "backgroundcolor": "#E5ECF6",
            "gridcolor": "white",
            "gridwidth": 2,
            "linecolor": "white",
            "showbackground": true,
            "ticks": "",
            "zerolinecolor": "white"
           },
           "zaxis": {
            "backgroundcolor": "#E5ECF6",
            "gridcolor": "white",
            "gridwidth": 2,
            "linecolor": "white",
            "showbackground": true,
            "ticks": "",
            "zerolinecolor": "white"
           }
          },
          "shapedefaults": {
           "line": {
            "color": "#2a3f5f"
           }
          },
          "ternary": {
           "aaxis": {
            "gridcolor": "white",
            "linecolor": "white",
            "ticks": ""
           },
           "baxis": {
            "gridcolor": "white",
            "linecolor": "white",
            "ticks": ""
           },
           "bgcolor": "#E5ECF6",
           "caxis": {
            "gridcolor": "white",
            "linecolor": "white",
            "ticks": ""
           }
          },
          "title": {
           "x": 0.05
          },
          "xaxis": {
           "automargin": true,
           "gridcolor": "white",
           "linecolor": "white",
           "ticks": "",
           "title": {
            "standoff": 15
           },
           "zerolinecolor": "white",
           "zerolinewidth": 2
          },
          "yaxis": {
           "automargin": true,
           "gridcolor": "white",
           "linecolor": "white",
           "ticks": "",
           "title": {
            "standoff": 15
           },
           "zerolinecolor": "white",
           "zerolinewidth": 2
          }
         }
        },
        "title": {
         "text": "Attack Success Rate"
        },
        "xaxis": {
         "anchor": "y",
         "categoryarray": [
          "20% Central",
          "50% Central",
          "80% Central",
          "100% Central"
         ],
         "categoryorder": "array",
         "domain": [
          0,
          1
         ],
         "title": {
          "text": "x"
         }
        },
        "yaxis": {
         "anchor": "x",
         "domain": [
          0,
          1
         ],
         "title": {
          "text": "success"
         }
        }
       }
      }
     },
     "metadata": {},
     "output_type": "display_data"
    }
   ],
   "source": [
    "fig = px.bar(df_full, x=df_full.index.get_level_values(1), y='success', color=df_full.index.get_level_values(0), \n",
    "             barmode='group',title=\"Attack Success Rate\",labels={'color':'Attack Dialect'})\n",
    "fig.update_xaxes({'categoryorder':'array','categoryarray':['20% Central', '50% Central', '80% Central', '100% Central']})\n",
    "\n",
    "fig.show()"
   ]
  },
  {
   "cell_type": "code",
   "execution_count": 73,
   "metadata": {},
   "outputs": [
    {
     "data": {
      "application/vnd.plotly.v1+json": {
       "config": {
        "plotlyServerURL": "https://plot.ly"
       },
       "data": [
        {
         "alignmentgroup": "True",
         "hovertemplate": "color=balear<br>x=%{x}<br>quietest_attack_snr=%{y}<extra></extra>",
         "legendgroup": "balear",
         "marker": {
          "color": "#636efa",
          "pattern": {
           "shape": ""
          }
         },
         "name": "balear",
         "offsetgroup": "balear",
         "orientation": "v",
         "showlegend": true,
         "textposition": "auto",
         "type": "bar",
         "x": [
          "100% Central",
          "20% Central",
          "50% Central",
          "80% Central"
         ],
         "xaxis": "x",
         "y": [
          36.412597363998216,
          37.614310569933636,
          37.786133789187005,
          36.61835921565799
         ],
         "yaxis": "y"
        },
        {
         "alignmentgroup": "True",
         "hovertemplate": "color=central<br>x=%{x}<br>quietest_attack_snr=%{y}<extra></extra>",
         "legendgroup": "central",
         "marker": {
          "color": "#EF553B",
          "pattern": {
           "shape": ""
          }
         },
         "name": "central",
         "offsetgroup": "central",
         "orientation": "v",
         "showlegend": true,
         "textposition": "auto",
         "type": "bar",
         "x": [
          "100% Central",
          "20% Central",
          "50% Central",
          "80% Central"
         ],
         "xaxis": "x",
         "y": [
          35.93003803192738,
          34.96828468460201,
          36.42140008638542,
          35.61251537503048
         ],
         "yaxis": "y"
        },
        {
         "alignmentgroup": "True",
         "hovertemplate": "color=nord<br>x=%{x}<br>quietest_attack_snr=%{y}<extra></extra>",
         "legendgroup": "nord",
         "marker": {
          "color": "#00cc96",
          "pattern": {
           "shape": ""
          }
         },
         "name": "nord",
         "offsetgroup": "nord",
         "orientation": "v",
         "showlegend": true,
         "textposition": "auto",
         "type": "bar",
         "x": [
          "100% Central",
          "20% Central",
          "50% Central",
          "80% Central"
         ],
         "xaxis": "x",
         "y": [
          35.093177233418984,
          34.02626802657801,
          34.3452586605677,
          34.69300328118023
         ],
         "yaxis": "y"
        },
        {
         "alignmentgroup": "True",
         "hovertemplate": "color=nord-occidental<br>x=%{x}<br>quietest_attack_snr=%{y}<extra></extra>",
         "legendgroup": "nord-occidental",
         "marker": {
          "color": "#ab63fa",
          "pattern": {
           "shape": ""
          }
         },
         "name": "nord-occidental",
         "offsetgroup": "nord-occidental",
         "orientation": "v",
         "showlegend": true,
         "textposition": "auto",
         "type": "bar",
         "x": [
          "100% Central",
          "20% Central",
          "50% Central",
          "80% Central"
         ],
         "xaxis": "x",
         "y": [
          36.168257332198216,
          36.059296449764794,
          36.64360574769934,
          36.42850481379579
         ],
         "yaxis": "y"
        },
        {
         "alignmentgroup": "True",
         "hovertemplate": "color=valencià<br>x=%{x}<br>quietest_attack_snr=%{y}<extra></extra>",
         "legendgroup": "valencià",
         "marker": {
          "color": "#FFA15A",
          "pattern": {
           "shape": ""
          }
         },
         "name": "valencià",
         "offsetgroup": "valencià",
         "orientation": "v",
         "showlegend": true,
         "textposition": "auto",
         "type": "bar",
         "x": [
          "100% Central",
          "20% Central",
          "50% Central",
          "80% Central"
         ],
         "xaxis": "x",
         "y": [
          34.483654084002204,
          35.24148477913594,
          35.93410029423501,
          33.95580881484254
         ],
         "yaxis": "y"
        }
       ],
       "layout": {
        "barmode": "group",
        "legend": {
         "title": {
          "text": "color"
         },
         "tracegroupgap": 0
        },
        "template": {
         "data": {
          "bar": [
           {
            "error_x": {
             "color": "#2a3f5f"
            },
            "error_y": {
             "color": "#2a3f5f"
            },
            "marker": {
             "line": {
              "color": "#E5ECF6",
              "width": 0.5
             },
             "pattern": {
              "fillmode": "overlay",
              "size": 10,
              "solidity": 0.2
             }
            },
            "type": "bar"
           }
          ],
          "barpolar": [
           {
            "marker": {
             "line": {
              "color": "#E5ECF6",
              "width": 0.5
             },
             "pattern": {
              "fillmode": "overlay",
              "size": 10,
              "solidity": 0.2
             }
            },
            "type": "barpolar"
           }
          ],
          "carpet": [
           {
            "aaxis": {
             "endlinecolor": "#2a3f5f",
             "gridcolor": "white",
             "linecolor": "white",
             "minorgridcolor": "white",
             "startlinecolor": "#2a3f5f"
            },
            "baxis": {
             "endlinecolor": "#2a3f5f",
             "gridcolor": "white",
             "linecolor": "white",
             "minorgridcolor": "white",
             "startlinecolor": "#2a3f5f"
            },
            "type": "carpet"
           }
          ],
          "choropleth": [
           {
            "colorbar": {
             "outlinewidth": 0,
             "ticks": ""
            },
            "type": "choropleth"
           }
          ],
          "contour": [
           {
            "colorbar": {
             "outlinewidth": 0,
             "ticks": ""
            },
            "colorscale": [
             [
              0,
              "#0d0887"
             ],
             [
              0.1111111111111111,
              "#46039f"
             ],
             [
              0.2222222222222222,
              "#7201a8"
             ],
             [
              0.3333333333333333,
              "#9c179e"
             ],
             [
              0.4444444444444444,
              "#bd3786"
             ],
             [
              0.5555555555555556,
              "#d8576b"
             ],
             [
              0.6666666666666666,
              "#ed7953"
             ],
             [
              0.7777777777777778,
              "#fb9f3a"
             ],
             [
              0.8888888888888888,
              "#fdca26"
             ],
             [
              1,
              "#f0f921"
             ]
            ],
            "type": "contour"
           }
          ],
          "contourcarpet": [
           {
            "colorbar": {
             "outlinewidth": 0,
             "ticks": ""
            },
            "type": "contourcarpet"
           }
          ],
          "heatmap": [
           {
            "colorbar": {
             "outlinewidth": 0,
             "ticks": ""
            },
            "colorscale": [
             [
              0,
              "#0d0887"
             ],
             [
              0.1111111111111111,
              "#46039f"
             ],
             [
              0.2222222222222222,
              "#7201a8"
             ],
             [
              0.3333333333333333,
              "#9c179e"
             ],
             [
              0.4444444444444444,
              "#bd3786"
             ],
             [
              0.5555555555555556,
              "#d8576b"
             ],
             [
              0.6666666666666666,
              "#ed7953"
             ],
             [
              0.7777777777777778,
              "#fb9f3a"
             ],
             [
              0.8888888888888888,
              "#fdca26"
             ],
             [
              1,
              "#f0f921"
             ]
            ],
            "type": "heatmap"
           }
          ],
          "heatmapgl": [
           {
            "colorbar": {
             "outlinewidth": 0,
             "ticks": ""
            },
            "colorscale": [
             [
              0,
              "#0d0887"
             ],
             [
              0.1111111111111111,
              "#46039f"
             ],
             [
              0.2222222222222222,
              "#7201a8"
             ],
             [
              0.3333333333333333,
              "#9c179e"
             ],
             [
              0.4444444444444444,
              "#bd3786"
             ],
             [
              0.5555555555555556,
              "#d8576b"
             ],
             [
              0.6666666666666666,
              "#ed7953"
             ],
             [
              0.7777777777777778,
              "#fb9f3a"
             ],
             [
              0.8888888888888888,
              "#fdca26"
             ],
             [
              1,
              "#f0f921"
             ]
            ],
            "type": "heatmapgl"
           }
          ],
          "histogram": [
           {
            "marker": {
             "pattern": {
              "fillmode": "overlay",
              "size": 10,
              "solidity": 0.2
             }
            },
            "type": "histogram"
           }
          ],
          "histogram2d": [
           {
            "colorbar": {
             "outlinewidth": 0,
             "ticks": ""
            },
            "colorscale": [
             [
              0,
              "#0d0887"
             ],
             [
              0.1111111111111111,
              "#46039f"
             ],
             [
              0.2222222222222222,
              "#7201a8"
             ],
             [
              0.3333333333333333,
              "#9c179e"
             ],
             [
              0.4444444444444444,
              "#bd3786"
             ],
             [
              0.5555555555555556,
              "#d8576b"
             ],
             [
              0.6666666666666666,
              "#ed7953"
             ],
             [
              0.7777777777777778,
              "#fb9f3a"
             ],
             [
              0.8888888888888888,
              "#fdca26"
             ],
             [
              1,
              "#f0f921"
             ]
            ],
            "type": "histogram2d"
           }
          ],
          "histogram2dcontour": [
           {
            "colorbar": {
             "outlinewidth": 0,
             "ticks": ""
            },
            "colorscale": [
             [
              0,
              "#0d0887"
             ],
             [
              0.1111111111111111,
              "#46039f"
             ],
             [
              0.2222222222222222,
              "#7201a8"
             ],
             [
              0.3333333333333333,
              "#9c179e"
             ],
             [
              0.4444444444444444,
              "#bd3786"
             ],
             [
              0.5555555555555556,
              "#d8576b"
             ],
             [
              0.6666666666666666,
              "#ed7953"
             ],
             [
              0.7777777777777778,
              "#fb9f3a"
             ],
             [
              0.8888888888888888,
              "#fdca26"
             ],
             [
              1,
              "#f0f921"
             ]
            ],
            "type": "histogram2dcontour"
           }
          ],
          "mesh3d": [
           {
            "colorbar": {
             "outlinewidth": 0,
             "ticks": ""
            },
            "type": "mesh3d"
           }
          ],
          "parcoords": [
           {
            "line": {
             "colorbar": {
              "outlinewidth": 0,
              "ticks": ""
             }
            },
            "type": "parcoords"
           }
          ],
          "pie": [
           {
            "automargin": true,
            "type": "pie"
           }
          ],
          "scatter": [
           {
            "fillpattern": {
             "fillmode": "overlay",
             "size": 10,
             "solidity": 0.2
            },
            "type": "scatter"
           }
          ],
          "scatter3d": [
           {
            "line": {
             "colorbar": {
              "outlinewidth": 0,
              "ticks": ""
             }
            },
            "marker": {
             "colorbar": {
              "outlinewidth": 0,
              "ticks": ""
             }
            },
            "type": "scatter3d"
           }
          ],
          "scattercarpet": [
           {
            "marker": {
             "colorbar": {
              "outlinewidth": 0,
              "ticks": ""
             }
            },
            "type": "scattercarpet"
           }
          ],
          "scattergeo": [
           {
            "marker": {
             "colorbar": {
              "outlinewidth": 0,
              "ticks": ""
             }
            },
            "type": "scattergeo"
           }
          ],
          "scattergl": [
           {
            "marker": {
             "colorbar": {
              "outlinewidth": 0,
              "ticks": ""
             }
            },
            "type": "scattergl"
           }
          ],
          "scattermapbox": [
           {
            "marker": {
             "colorbar": {
              "outlinewidth": 0,
              "ticks": ""
             }
            },
            "type": "scattermapbox"
           }
          ],
          "scatterpolar": [
           {
            "marker": {
             "colorbar": {
              "outlinewidth": 0,
              "ticks": ""
             }
            },
            "type": "scatterpolar"
           }
          ],
          "scatterpolargl": [
           {
            "marker": {
             "colorbar": {
              "outlinewidth": 0,
              "ticks": ""
             }
            },
            "type": "scatterpolargl"
           }
          ],
          "scatterternary": [
           {
            "marker": {
             "colorbar": {
              "outlinewidth": 0,
              "ticks": ""
             }
            },
            "type": "scatterternary"
           }
          ],
          "surface": [
           {
            "colorbar": {
             "outlinewidth": 0,
             "ticks": ""
            },
            "colorscale": [
             [
              0,
              "#0d0887"
             ],
             [
              0.1111111111111111,
              "#46039f"
             ],
             [
              0.2222222222222222,
              "#7201a8"
             ],
             [
              0.3333333333333333,
              "#9c179e"
             ],
             [
              0.4444444444444444,
              "#bd3786"
             ],
             [
              0.5555555555555556,
              "#d8576b"
             ],
             [
              0.6666666666666666,
              "#ed7953"
             ],
             [
              0.7777777777777778,
              "#fb9f3a"
             ],
             [
              0.8888888888888888,
              "#fdca26"
             ],
             [
              1,
              "#f0f921"
             ]
            ],
            "type": "surface"
           }
          ],
          "table": [
           {
            "cells": {
             "fill": {
              "color": "#EBF0F8"
             },
             "line": {
              "color": "white"
             }
            },
            "header": {
             "fill": {
              "color": "#C8D4E3"
             },
             "line": {
              "color": "white"
             }
            },
            "type": "table"
           }
          ]
         },
         "layout": {
          "annotationdefaults": {
           "arrowcolor": "#2a3f5f",
           "arrowhead": 0,
           "arrowwidth": 1
          },
          "autotypenumbers": "strict",
          "coloraxis": {
           "colorbar": {
            "outlinewidth": 0,
            "ticks": ""
           }
          },
          "colorscale": {
           "diverging": [
            [
             0,
             "#8e0152"
            ],
            [
             0.1,
             "#c51b7d"
            ],
            [
             0.2,
             "#de77ae"
            ],
            [
             0.3,
             "#f1b6da"
            ],
            [
             0.4,
             "#fde0ef"
            ],
            [
             0.5,
             "#f7f7f7"
            ],
            [
             0.6,
             "#e6f5d0"
            ],
            [
             0.7,
             "#b8e186"
            ],
            [
             0.8,
             "#7fbc41"
            ],
            [
             0.9,
             "#4d9221"
            ],
            [
             1,
             "#276419"
            ]
           ],
           "sequential": [
            [
             0,
             "#0d0887"
            ],
            [
             0.1111111111111111,
             "#46039f"
            ],
            [
             0.2222222222222222,
             "#7201a8"
            ],
            [
             0.3333333333333333,
             "#9c179e"
            ],
            [
             0.4444444444444444,
             "#bd3786"
            ],
            [
             0.5555555555555556,
             "#d8576b"
            ],
            [
             0.6666666666666666,
             "#ed7953"
            ],
            [
             0.7777777777777778,
             "#fb9f3a"
            ],
            [
             0.8888888888888888,
             "#fdca26"
            ],
            [
             1,
             "#f0f921"
            ]
           ],
           "sequentialminus": [
            [
             0,
             "#0d0887"
            ],
            [
             0.1111111111111111,
             "#46039f"
            ],
            [
             0.2222222222222222,
             "#7201a8"
            ],
            [
             0.3333333333333333,
             "#9c179e"
            ],
            [
             0.4444444444444444,
             "#bd3786"
            ],
            [
             0.5555555555555556,
             "#d8576b"
            ],
            [
             0.6666666666666666,
             "#ed7953"
            ],
            [
             0.7777777777777778,
             "#fb9f3a"
            ],
            [
             0.8888888888888888,
             "#fdca26"
            ],
            [
             1,
             "#f0f921"
            ]
           ]
          },
          "colorway": [
           "#636efa",
           "#EF553B",
           "#00cc96",
           "#ab63fa",
           "#FFA15A",
           "#19d3f3",
           "#FF6692",
           "#B6E880",
           "#FF97FF",
           "#FECB52"
          ],
          "font": {
           "color": "#2a3f5f"
          },
          "geo": {
           "bgcolor": "white",
           "lakecolor": "white",
           "landcolor": "#E5ECF6",
           "showlakes": true,
           "showland": true,
           "subunitcolor": "white"
          },
          "hoverlabel": {
           "align": "left"
          },
          "hovermode": "closest",
          "mapbox": {
           "style": "light"
          },
          "paper_bgcolor": "white",
          "plot_bgcolor": "#E5ECF6",
          "polar": {
           "angularaxis": {
            "gridcolor": "white",
            "linecolor": "white",
            "ticks": ""
           },
           "bgcolor": "#E5ECF6",
           "radialaxis": {
            "gridcolor": "white",
            "linecolor": "white",
            "ticks": ""
           }
          },
          "scene": {
           "xaxis": {
            "backgroundcolor": "#E5ECF6",
            "gridcolor": "white",
            "gridwidth": 2,
            "linecolor": "white",
            "showbackground": true,
            "ticks": "",
            "zerolinecolor": "white"
           },
           "yaxis": {
            "backgroundcolor": "#E5ECF6",
            "gridcolor": "white",
            "gridwidth": 2,
            "linecolor": "white",
            "showbackground": true,
            "ticks": "",
            "zerolinecolor": "white"
           },
           "zaxis": {
            "backgroundcolor": "#E5ECF6",
            "gridcolor": "white",
            "gridwidth": 2,
            "linecolor": "white",
            "showbackground": true,
            "ticks": "",
            "zerolinecolor": "white"
           }
          },
          "shapedefaults": {
           "line": {
            "color": "#2a3f5f"
           }
          },
          "ternary": {
           "aaxis": {
            "gridcolor": "white",
            "linecolor": "white",
            "ticks": ""
           },
           "baxis": {
            "gridcolor": "white",
            "linecolor": "white",
            "ticks": ""
           },
           "bgcolor": "#E5ECF6",
           "caxis": {
            "gridcolor": "white",
            "linecolor": "white",
            "ticks": ""
           }
          },
          "title": {
           "x": 0.05
          },
          "xaxis": {
           "automargin": true,
           "gridcolor": "white",
           "linecolor": "white",
           "ticks": "",
           "title": {
            "standoff": 15
           },
           "zerolinecolor": "white",
           "zerolinewidth": 2
          },
          "yaxis": {
           "automargin": true,
           "gridcolor": "white",
           "linecolor": "white",
           "ticks": "",
           "title": {
            "standoff": 15
           },
           "zerolinecolor": "white",
           "zerolinewidth": 2
          }
         }
        },
        "title": {
         "text": "Average SNR of Successful Attacks"
        },
        "xaxis": {
         "anchor": "y",
         "categoryarray": [
          "20% Central",
          "50% Central",
          "80% Central",
          "100% Central"
         ],
         "categoryorder": "array",
         "domain": [
          0,
          1
         ],
         "title": {
          "text": "x"
         }
        },
        "yaxis": {
         "anchor": "x",
         "domain": [
          0,
          1
         ],
         "title": {
          "text": "quietest_attack_snr"
         }
        }
       }
      }
     },
     "metadata": {},
     "output_type": "display_data"
    }
   ],
   "source": [
    "fig = px.bar(df_full, x=df_full.index.get_level_values(1), y='quietest_attack_snr', color=df_full.index.get_level_values(0), \n",
    "             barmode='group',title=\"Average SNR of Successful Attacks\")\n",
    "fig.update_xaxes({'categoryorder':'array','categoryarray':['20% Central', '50% Central', '80% Central', '100% Central']})\n",
    "\n",
    "fig.show()"
   ]
  }
 ],
 "metadata": {
  "kernelspec": {
   "display_name": "asp",
   "language": "python",
   "name": "python3"
  },
  "language_info": {
   "codemirror_mode": {
    "name": "ipython",
    "version": 3
   },
   "file_extension": ".py",
   "mimetype": "text/x-python",
   "name": "python",
   "nbconvert_exporter": "python",
   "pygments_lexer": "ipython3",
   "version": "3.10.13"
  }
 },
 "nbformat": 4,
 "nbformat_minor": 2
}
