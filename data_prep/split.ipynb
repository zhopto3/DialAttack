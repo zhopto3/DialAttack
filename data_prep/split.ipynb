{
 "cells": [
  {
   "cell_type": "code",
   "execution_count": 49,
   "metadata": {},
   "outputs": [],
   "source": [
    "import pandas as pd\n",
    "import csv \n",
    "\n",
    "path = \"../../../../../Desktop/cv-cat-18/ca/validated.tsv\""
   ]
  },
  {
   "cell_type": "code",
   "execution_count": 50,
   "metadata": {},
   "outputs": [
    {
     "name": "stderr",
     "output_type": "stream",
     "text": [
      "/var/folders/2d/7d3c_x1x5mb40mc1sgr14p740000gn/T/ipykernel_14296/2631694780.py:1: DtypeWarning: Columns (4,10,12) have mixed types. Specify dtype option on import or set low_memory=False.\n",
      "  df_full = pd.read_csv(path,delimiter=\"\\t\")\n"
     ]
    }
   ],
   "source": [
    "df_full = pd.read_csv(path,delimiter=\"\\t\")"
   ]
  },
  {
   "cell_type": "code",
   "execution_count": 51,
   "metadata": {},
   "outputs": [],
   "source": [
    "import json\n",
    "\n",
    "with open(\"./macrodial.json\",'r',encoding='utf-8') as input: \n",
    "    macro_dial = json.load(input)"
   ]
  },
  {
   "cell_type": "code",
   "execution_count": 52,
   "metadata": {},
   "outputs": [],
   "source": [
    "df_full[\"grouped_accents\"] = df_full.apply(lambda row: macro_dial[row.accents] if macro_dial.get(row.accents, None) else \"None\",axis=1)"
   ]
  },
  {
   "cell_type": "code",
   "execution_count": 53,
   "metadata": {},
   "outputs": [
    {
     "data": {
      "text/plain": [
       "1885699"
      ]
     },
     "execution_count": 53,
     "metadata": {},
     "output_type": "execute_result"
    }
   ],
   "source": [
    "len(df_full)"
   ]
  },
  {
   "cell_type": "code",
   "execution_count": 54,
   "metadata": {},
   "outputs": [
    {
     "data": {
      "text/plain": [
       "1572800"
      ]
     },
     "execution_count": 54,
     "metadata": {},
     "output_type": "execute_result"
    }
   ],
   "source": [
    "#Remove repeats that occur in same macro-dialect\n",
    "df_full = df_full.drop_duplicates(subset=[\"sentence\",\"grouped_accents\"])\n",
    "len(df_full)"
   ]
  },
  {
   "cell_type": "code",
   "execution_count": 55,
   "metadata": {},
   "outputs": [],
   "source": [
    "df_val = df_full[df_full.grouped_accents=='valencià']\n",
    "df_cent = df_full[df_full.grouped_accents=='central']\n",
    "df_nord = df_full[df_full.grouped_accents=='nord']\n",
    "df_bal = df_full[df_full.grouped_accents=='balear']\n",
    "df_no = df_full[df_full.grouped_accents=='nord-occidental']"
   ]
  },
  {
   "cell_type": "code",
   "execution_count": 56,
   "metadata": {},
   "outputs": [],
   "source": [
    "val_eval = df_val.sample(n=11925)\n",
    "cent_eval = df_cent.sample(n=11925)\n",
    "nord_eval = df_nord.sample(n=11925)\n",
    "bal_eval = df_bal.sample(n=11925)\n",
    "no_eval = df_no.sample(n=11925)\n"
   ]
  },
  {
   "cell_type": "code",
   "execution_count": 57,
   "metadata": {},
   "outputs": [
    {
     "data": {
      "text/plain": [
       "Index(['client_id', 'path', 'sentence_id', 'sentence', 'sentence_domain',\n",
       "       'up_votes', 'down_votes', 'age', 'gender', 'accents', 'variant',\n",
       "       'locale', 'segment', 'grouped_accents'],\n",
       "      dtype='object')"
      ]
     },
     "execution_count": 57,
     "metadata": {},
     "output_type": "execute_result"
    }
   ],
   "source": [
    "df_full.columns"
   ]
  },
  {
   "cell_type": "code",
   "execution_count": 58,
   "metadata": {},
   "outputs": [],
   "source": [
    "full_eval = pd.concat([val_eval,cent_eval,nord_eval,bal_eval,no_eval],ignore_index=True)"
   ]
  },
  {
   "cell_type": "code",
   "execution_count": 59,
   "metadata": {},
   "outputs": [],
   "source": [
    "out_path = \"../../../../../Desktop/cv-cat-18/ca/\"\n",
    "full_eval.to_csv(out_path+\"eval_balanced.tsv\",sep='\\t', quoting=csv.QUOTE_NONE, index=False, escapechar=\"\\\\\")"
   ]
  },
  {
   "cell_type": "code",
   "execution_count": 60,
   "metadata": {},
   "outputs": [
    {
     "data": {
      "text/plain": [
       "1572800"
      ]
     },
     "execution_count": 60,
     "metadata": {},
     "output_type": "execute_result"
    }
   ],
   "source": [
    "len(df_full)"
   ]
  },
  {
   "cell_type": "code",
   "execution_count": 61,
   "metadata": {},
   "outputs": [],
   "source": [
    "train_val_df = df_full.drop(pd.concat([val_eval,cent_eval,nord_eval,bal_eval,no_eval]).index)"
   ]
  },
  {
   "cell_type": "code",
   "execution_count": 62,
   "metadata": {},
   "outputs": [
    {
     "data": {
      "text/plain": [
       "1513175"
      ]
     },
     "execution_count": 62,
     "metadata": {},
     "output_type": "execute_result"
    }
   ],
   "source": [
    "len(train_val_df)"
   ]
  },
  {
   "cell_type": "code",
   "execution_count": 63,
   "metadata": {},
   "outputs": [],
   "source": [
    "#Check that the lengths of the train_val set correspond to what they should after removing eval\n",
    "assert (len(df_full)-len(train_val_df)) == len(full_eval)"
   ]
  },
  {
   "cell_type": "code",
   "execution_count": 64,
   "metadata": {},
   "outputs": [
    {
     "data": {
      "text/html": [
       "<div>\n",
       "<style scoped>\n",
       "    .dataframe tbody tr th:only-of-type {\n",
       "        vertical-align: middle;\n",
       "    }\n",
       "\n",
       "    .dataframe tbody tr th {\n",
       "        vertical-align: top;\n",
       "    }\n",
       "\n",
       "    .dataframe thead th {\n",
       "        text-align: right;\n",
       "    }\n",
       "</style>\n",
       "<table border=\"1\" class=\"dataframe\">\n",
       "  <thead>\n",
       "    <tr style=\"text-align: right;\">\n",
       "      <th></th>\n",
       "      <th>client_id</th>\n",
       "      <th>path</th>\n",
       "      <th>sentence_id</th>\n",
       "      <th>sentence</th>\n",
       "      <th>sentence_domain</th>\n",
       "      <th>up_votes</th>\n",
       "      <th>down_votes</th>\n",
       "      <th>age</th>\n",
       "      <th>gender</th>\n",
       "      <th>accents</th>\n",
       "      <th>variant</th>\n",
       "      <th>locale</th>\n",
       "      <th>segment</th>\n",
       "      <th>grouped_accents</th>\n",
       "    </tr>\n",
       "  </thead>\n",
       "  <tbody>\n",
       "    <tr>\n",
       "      <th>606295</th>\n",
       "      <td>5e1cddcfdda2f98aa92e0567716a9af5f3623fe6c8c878...</td>\n",
       "      <td>common_voice_ca_31434979.mp3</td>\n",
       "      <td>1a8e90e837e56c27c0d90eca9ea12d7b2c058eef31754b...</td>\n",
       "      <td>Francesc Homs i Molist és un polític nascut a ...</td>\n",
       "      <td>NaN</td>\n",
       "      <td>6</td>\n",
       "      <td>0</td>\n",
       "      <td>fifties</td>\n",
       "      <td>male_masculine</td>\n",
       "      <td>valencià</td>\n",
       "      <td>NaN</td>\n",
       "      <td>ca</td>\n",
       "      <td>NaN</td>\n",
       "      <td>valencià</td>\n",
       "    </tr>\n",
       "    <tr>\n",
       "      <th>1093181</th>\n",
       "      <td>c1bafe50eb70a1b65188fac549c6bbe7f641b672fbe9fd...</td>\n",
       "      <td>common_voice_ca_22349369.mp3</td>\n",
       "      <td>81d70a2a5057bd51fe8f80617a6b3cd7de44510fc1a068...</td>\n",
       "      <td>El seu centre històric és la parròquia de Sant...</td>\n",
       "      <td>NaN</td>\n",
       "      <td>2</td>\n",
       "      <td>0</td>\n",
       "      <td>thirties</td>\n",
       "      <td>male_masculine</td>\n",
       "      <td>valencià</td>\n",
       "      <td>Valencià meridional</td>\n",
       "      <td>ca</td>\n",
       "      <td>NaN</td>\n",
       "      <td>valencià</td>\n",
       "    </tr>\n",
       "    <tr>\n",
       "      <th>476130</th>\n",
       "      <td>2694077609a17a4e73fa69602e16a7d9728aaff716350f...</td>\n",
       "      <td>common_voice_ca_21802095.mp3</td>\n",
       "      <td>671ff3ce97712767fe5e59fb5046467c3a3c9cb56f2be3...</td>\n",
       "      <td>El club dels valents.</td>\n",
       "      <td>NaN</td>\n",
       "      <td>3</td>\n",
       "      <td>0</td>\n",
       "      <td>thirties</td>\n",
       "      <td>male_masculine</td>\n",
       "      <td>valencià</td>\n",
       "      <td>NaN</td>\n",
       "      <td>ca</td>\n",
       "      <td>NaN</td>\n",
       "      <td>valencià</td>\n",
       "    </tr>\n",
       "    <tr>\n",
       "      <th>1092305</th>\n",
       "      <td>c1bafe50eb70a1b65188fac549c6bbe7f641b672fbe9fd...</td>\n",
       "      <td>common_voice_ca_21566945.mp3</td>\n",
       "      <td>5a807c68380a6c36529f72893f41ac7ca31de6eb75e7eb...</td>\n",
       "      <td>Membre de l’Associació Catalana de la Premsa C...</td>\n",
       "      <td>NaN</td>\n",
       "      <td>2</td>\n",
       "      <td>0</td>\n",
       "      <td>thirties</td>\n",
       "      <td>male_masculine</td>\n",
       "      <td>valencià</td>\n",
       "      <td>Valencià meridional</td>\n",
       "      <td>ca</td>\n",
       "      <td>NaN</td>\n",
       "      <td>valencià</td>\n",
       "    </tr>\n",
       "    <tr>\n",
       "      <th>903677</th>\n",
       "      <td>ce31dc5dfa61834e3ab67925ff5f24baf04b4aee6e35cd...</td>\n",
       "      <td>common_voice_ca_17696835.mp3</td>\n",
       "      <td>e30f0394e93e868c5dcee13d9e950c71847c6c7d936640...</td>\n",
       "      <td>T'espero.</td>\n",
       "      <td>NaN</td>\n",
       "      <td>3</td>\n",
       "      <td>0</td>\n",
       "      <td>fifties</td>\n",
       "      <td>male_masculine</td>\n",
       "      <td>valencià</td>\n",
       "      <td>NaN</td>\n",
       "      <td>ca</td>\n",
       "      <td>NaN</td>\n",
       "      <td>valencià</td>\n",
       "    </tr>\n",
       "  </tbody>\n",
       "</table>\n",
       "</div>"
      ],
      "text/plain": [
       "                                                 client_id  \\\n",
       "606295   5e1cddcfdda2f98aa92e0567716a9af5f3623fe6c8c878...   \n",
       "1093181  c1bafe50eb70a1b65188fac549c6bbe7f641b672fbe9fd...   \n",
       "476130   2694077609a17a4e73fa69602e16a7d9728aaff716350f...   \n",
       "1092305  c1bafe50eb70a1b65188fac549c6bbe7f641b672fbe9fd...   \n",
       "903677   ce31dc5dfa61834e3ab67925ff5f24baf04b4aee6e35cd...   \n",
       "\n",
       "                                 path  \\\n",
       "606295   common_voice_ca_31434979.mp3   \n",
       "1093181  common_voice_ca_22349369.mp3   \n",
       "476130   common_voice_ca_21802095.mp3   \n",
       "1092305  common_voice_ca_21566945.mp3   \n",
       "903677   common_voice_ca_17696835.mp3   \n",
       "\n",
       "                                               sentence_id  \\\n",
       "606295   1a8e90e837e56c27c0d90eca9ea12d7b2c058eef31754b...   \n",
       "1093181  81d70a2a5057bd51fe8f80617a6b3cd7de44510fc1a068...   \n",
       "476130   671ff3ce97712767fe5e59fb5046467c3a3c9cb56f2be3...   \n",
       "1092305  5a807c68380a6c36529f72893f41ac7ca31de6eb75e7eb...   \n",
       "903677   e30f0394e93e868c5dcee13d9e950c71847c6c7d936640...   \n",
       "\n",
       "                                                  sentence sentence_domain  \\\n",
       "606295   Francesc Homs i Molist és un polític nascut a ...             NaN   \n",
       "1093181  El seu centre històric és la parròquia de Sant...             NaN   \n",
       "476130                               El club dels valents.             NaN   \n",
       "1092305  Membre de l’Associació Catalana de la Premsa C...             NaN   \n",
       "903677                                           T'espero.             NaN   \n",
       "\n",
       "         up_votes  down_votes       age          gender   accents  \\\n",
       "606295          6           0   fifties  male_masculine  valencià   \n",
       "1093181         2           0  thirties  male_masculine  valencià   \n",
       "476130          3           0  thirties  male_masculine  valencià   \n",
       "1092305         2           0  thirties  male_masculine  valencià   \n",
       "903677          3           0   fifties  male_masculine  valencià   \n",
       "\n",
       "                     variant locale segment grouped_accents  \n",
       "606295                   NaN     ca     NaN        valencià  \n",
       "1093181  Valencià meridional     ca     NaN        valencià  \n",
       "476130                   NaN     ca     NaN        valencià  \n",
       "1092305  Valencià meridional     ca     NaN        valencià  \n",
       "903677                   NaN     ca     NaN        valencià  "
      ]
     },
     "execution_count": 64,
     "metadata": {},
     "output_type": "execute_result"
    }
   ],
   "source": [
    "pd.concat([val_eval,cent_eval,nord_eval,bal_eval,no_eval]).head()"
   ]
  },
  {
   "cell_type": "code",
   "execution_count": 65,
   "metadata": {},
   "outputs": [
    {
     "name": "stdout",
     "output_type": "stream",
     "text": [
      "False\n"
     ]
    }
   ],
   "source": [
    "print(903677 in list(train_val_df.index))"
   ]
  },
  {
   "cell_type": "code",
   "execution_count": 66,
   "metadata": {},
   "outputs": [
    {
     "name": "stdout",
     "output_type": "stream",
     "text": [
      "True\n"
     ]
    }
   ],
   "source": [
    "print(1093205 in list(train_val_df.index))"
   ]
  },
  {
   "cell_type": "code",
   "execution_count": 67,
   "metadata": {},
   "outputs": [],
   "source": [
    "train_val_df.to_csv(out_path+\"train_dev_full.tsv\",sep='\\t',quoting=csv.QUOTE_NONE, index=False, escapechar=\"\\\\\")"
   ]
  }
 ],
 "metadata": {
  "language_info": {
   "name": "python"
  }
 },
 "nbformat": 4,
 "nbformat_minor": 2
}
