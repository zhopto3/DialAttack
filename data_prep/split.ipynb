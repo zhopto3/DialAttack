{
 "cells": [
  {
   "cell_type": "code",
   "execution_count": 1,
   "metadata": {},
   "outputs": [],
   "source": [
    "import pandas as pd\n",
    "\n",
    "path = \"../../../../../Desktop/cv-cat-18/ca/validated.tsv\""
   ]
  },
  {
   "cell_type": "code",
   "execution_count": 2,
   "metadata": {},
   "outputs": [
    {
     "name": "stderr",
     "output_type": "stream",
     "text": [
      "/var/folders/2d/7d3c_x1x5mb40mc1sgr14p740000gn/T/ipykernel_14296/2631694780.py:1: DtypeWarning: Columns (4,10,12) have mixed types. Specify dtype option on import or set low_memory=False.\n",
      "  df_full = pd.read_csv(path,delimiter=\"\\t\")\n"
     ]
    }
   ],
   "source": [
    "df_full = pd.read_csv(path,delimiter=\"\\t\")"
   ]
  },
  {
   "cell_type": "code",
   "execution_count": 3,
   "metadata": {},
   "outputs": [],
   "source": [
    "import json\n",
    "\n",
    "with open(\"./macrodial.json\",'r',encoding='utf-8') as input: \n",
    "    macro_dial = json.load(input)"
   ]
  },
  {
   "cell_type": "code",
   "execution_count": 4,
   "metadata": {},
   "outputs": [],
   "source": [
    "df_full[\"grouped_accents\"] = df_full.apply(lambda row: macro_dial[row.accents] if macro_dial.get(row.accents, None) else \"None\",axis=1)"
   ]
  },
  {
   "cell_type": "code",
   "execution_count": 5,
   "metadata": {},
   "outputs": [
    {
     "data": {
      "text/plain": [
       "1885699"
      ]
     },
     "execution_count": 5,
     "metadata": {},
     "output_type": "execute_result"
    }
   ],
   "source": [
    "len(df_full)"
   ]
  },
  {
   "cell_type": "code",
   "execution_count": 6,
   "metadata": {},
   "outputs": [
    {
     "data": {
      "text/plain": [
       "1572800"
      ]
     },
     "execution_count": 6,
     "metadata": {},
     "output_type": "execute_result"
    }
   ],
   "source": [
    "#Remove repeats that occur in same macro-dialect\n",
    "df_full = df_full.drop_duplicates(subset=[\"sentence\",\"grouped_accents\"])\n",
    "len(df_full)"
   ]
  },
  {
   "cell_type": "code",
   "execution_count": 7,
   "metadata": {},
   "outputs": [],
   "source": [
    "df_val = df_full[df_full.grouped_accents=='valencià']\n",
    "df_cent = df_full[df_full.grouped_accents=='central']\n",
    "df_nord = df_full[df_full.grouped_accents=='nord']\n",
    "df_bal = df_full[df_full.grouped_accents=='balear']\n",
    "df_no = df_full[df_full.grouped_accents=='nord-occidental']"
   ]
  },
  {
   "cell_type": "code",
   "execution_count": 8,
   "metadata": {},
   "outputs": [],
   "source": [
    "val_eval = df_val.sample(n=11925)\n",
    "cent_eval = df_cent.sample(n=11925)\n",
    "nord_eval = df_nord.sample(n=11925)\n",
    "bal_eval = df_bal.sample(n=11925)\n",
    "no_eval = df_no.sample(n=11925)\n"
   ]
  },
  {
   "cell_type": "code",
   "execution_count": 9,
   "metadata": {},
   "outputs": [
    {
     "data": {
      "text/plain": [
       "Index(['client_id', 'path', 'sentence_id', 'sentence', 'sentence_domain',\n",
       "       'up_votes', 'down_votes', 'age', 'gender', 'accents', 'variant',\n",
       "       'locale', 'segment', 'grouped_accents'],\n",
       "      dtype='object')"
      ]
     },
     "execution_count": 9,
     "metadata": {},
     "output_type": "execute_result"
    }
   ],
   "source": [
    "df_full.columns"
   ]
  },
  {
   "cell_type": "code",
   "execution_count": 10,
   "metadata": {},
   "outputs": [],
   "source": [
    "full_eval = pd.concat([val_eval,cent_eval,nord_eval,bal_eval,no_eval],ignore_index=True)"
   ]
  },
  {
   "cell_type": "code",
   "execution_count": 11,
   "metadata": {},
   "outputs": [],
   "source": [
    "out_path = \"../../../../../Desktop/cv-cat-18/ca/\"\n",
    "full_eval.to_csv(out_path+\"eval_balanced.tsv\",sep='\\t')"
   ]
  },
  {
   "cell_type": "code",
   "execution_count": 12,
   "metadata": {},
   "outputs": [
    {
     "data": {
      "text/plain": [
       "1572800"
      ]
     },
     "execution_count": 12,
     "metadata": {},
     "output_type": "execute_result"
    }
   ],
   "source": [
    "len(df_full)"
   ]
  },
  {
   "cell_type": "code",
   "execution_count": 13,
   "metadata": {},
   "outputs": [],
   "source": [
    "train_val_df = df_full.drop(pd.concat([val_eval,cent_eval,nord_eval,bal_eval,no_eval]).index)"
   ]
  },
  {
   "cell_type": "code",
   "execution_count": 14,
   "metadata": {},
   "outputs": [
    {
     "data": {
      "text/plain": [
       "1513175"
      ]
     },
     "execution_count": 14,
     "metadata": {},
     "output_type": "execute_result"
    }
   ],
   "source": [
    "len(train_val_df)"
   ]
  },
  {
   "cell_type": "code",
   "execution_count": 15,
   "metadata": {},
   "outputs": [],
   "source": [
    "#Check that the lengths of the train_val set correspond to what they should after removing eval\n",
    "assert (len(df_full)-len(train_val_df)) == len(full_eval)"
   ]
  },
  {
   "cell_type": "code",
   "execution_count": 16,
   "metadata": {},
   "outputs": [
    {
     "data": {
      "text/html": [
       "<div>\n",
       "<style scoped>\n",
       "    .dataframe tbody tr th:only-of-type {\n",
       "        vertical-align: middle;\n",
       "    }\n",
       "\n",
       "    .dataframe tbody tr th {\n",
       "        vertical-align: top;\n",
       "    }\n",
       "\n",
       "    .dataframe thead th {\n",
       "        text-align: right;\n",
       "    }\n",
       "</style>\n",
       "<table border=\"1\" class=\"dataframe\">\n",
       "  <thead>\n",
       "    <tr style=\"text-align: right;\">\n",
       "      <th></th>\n",
       "      <th>client_id</th>\n",
       "      <th>path</th>\n",
       "      <th>sentence_id</th>\n",
       "      <th>sentence</th>\n",
       "      <th>sentence_domain</th>\n",
       "      <th>up_votes</th>\n",
       "      <th>down_votes</th>\n",
       "      <th>age</th>\n",
       "      <th>gender</th>\n",
       "      <th>accents</th>\n",
       "      <th>variant</th>\n",
       "      <th>locale</th>\n",
       "      <th>segment</th>\n",
       "      <th>grouped_accents</th>\n",
       "    </tr>\n",
       "  </thead>\n",
       "  <tbody>\n",
       "    <tr>\n",
       "      <th>1513725</th>\n",
       "      <td>892bf89bd3a008a7d982de0d278349e654c713efacf965...</td>\n",
       "      <td>common_voice_ca_31171460.mp3</td>\n",
       "      <td>2227eb1f8aed5e6f4831047a5f80fc26ad48c681994b87...</td>\n",
       "      <td>Bàsicament, perquè era la disfressa que tenia.</td>\n",
       "      <td>NaN</td>\n",
       "      <td>9</td>\n",
       "      <td>0</td>\n",
       "      <td>fourties</td>\n",
       "      <td>male_masculine</td>\n",
       "      <td>valencià,La Vall d'Albaida</td>\n",
       "      <td>NaN</td>\n",
       "      <td>ca</td>\n",
       "      <td>NaN</td>\n",
       "      <td>valencià</td>\n",
       "    </tr>\n",
       "    <tr>\n",
       "      <th>955608</th>\n",
       "      <td>e37d85b60af58cc03e9b36e09dee5e8308368f44f91b28...</td>\n",
       "      <td>common_voice_ca_31424529.mp3</td>\n",
       "      <td>1914a73a75870b3f64b874239c1e67211228b70bffff6c...</td>\n",
       "      <td>No obstant això, ell encara li era útil.</td>\n",
       "      <td>NaN</td>\n",
       "      <td>4</td>\n",
       "      <td>0</td>\n",
       "      <td>teens</td>\n",
       "      <td>male_masculine</td>\n",
       "      <td>Tortosí,nord-occidental</td>\n",
       "      <td>NaN</td>\n",
       "      <td>ca</td>\n",
       "      <td>NaN</td>\n",
       "      <td>valencià</td>\n",
       "    </tr>\n",
       "    <tr>\n",
       "      <th>706952</th>\n",
       "      <td>52cfac480c0cbc60068305d983adbf98814d2cfddb8be0...</td>\n",
       "      <td>common_voice_ca_29314614.mp3</td>\n",
       "      <td>15939719f2f6def0f5bbf68368aa8dd3a45878022290bb...</td>\n",
       "      <td>Des d'on va escriure Rossini a la seva mare?</td>\n",
       "      <td>NaN</td>\n",
       "      <td>4</td>\n",
       "      <td>2</td>\n",
       "      <td>fourties</td>\n",
       "      <td>male_masculine</td>\n",
       "      <td>De la Plana de Borriana ,valencià</td>\n",
       "      <td>Valencià septentrional</td>\n",
       "      <td>ca</td>\n",
       "      <td>NaN</td>\n",
       "      <td>valencià</td>\n",
       "    </tr>\n",
       "    <tr>\n",
       "      <th>1032056</th>\n",
       "      <td>d647b73602a3a0c1b06f282a612c29eefc6a7e372bc8af...</td>\n",
       "      <td>common_voice_ca_19573840.mp3</td>\n",
       "      <td>0cab9997cd6e9d71bc951ca3add97df6759ad2cede6b04...</td>\n",
       "      <td>En els dies següents l'aixecament s'anà estene...</td>\n",
       "      <td>NaN</td>\n",
       "      <td>2</td>\n",
       "      <td>0</td>\n",
       "      <td>thirties</td>\n",
       "      <td>male_masculine</td>\n",
       "      <td>valencià</td>\n",
       "      <td>NaN</td>\n",
       "      <td>ca</td>\n",
       "      <td>NaN</td>\n",
       "      <td>valencià</td>\n",
       "    </tr>\n",
       "    <tr>\n",
       "      <th>1520912</th>\n",
       "      <td>892bf89bd3a008a7d982de0d278349e654c713efacf965...</td>\n",
       "      <td>common_voice_ca_38246636.mp3</td>\n",
       "      <td>a3f094041c72d54025ec2b696c0ab76dec5da3fae7e130...</td>\n",
       "      <td>També va ser responsable del programa econòmic...</td>\n",
       "      <td>NaN</td>\n",
       "      <td>6</td>\n",
       "      <td>3</td>\n",
       "      <td>fourties</td>\n",
       "      <td>male_masculine</td>\n",
       "      <td>valencià,La Vall d'Albaida</td>\n",
       "      <td>NaN</td>\n",
       "      <td>ca</td>\n",
       "      <td>NaN</td>\n",
       "      <td>valencià</td>\n",
       "    </tr>\n",
       "  </tbody>\n",
       "</table>\n",
       "</div>"
      ],
      "text/plain": [
       "                                                 client_id  \\\n",
       "1513725  892bf89bd3a008a7d982de0d278349e654c713efacf965...   \n",
       "955608   e37d85b60af58cc03e9b36e09dee5e8308368f44f91b28...   \n",
       "706952   52cfac480c0cbc60068305d983adbf98814d2cfddb8be0...   \n",
       "1032056  d647b73602a3a0c1b06f282a612c29eefc6a7e372bc8af...   \n",
       "1520912  892bf89bd3a008a7d982de0d278349e654c713efacf965...   \n",
       "\n",
       "                                 path  \\\n",
       "1513725  common_voice_ca_31171460.mp3   \n",
       "955608   common_voice_ca_31424529.mp3   \n",
       "706952   common_voice_ca_29314614.mp3   \n",
       "1032056  common_voice_ca_19573840.mp3   \n",
       "1520912  common_voice_ca_38246636.mp3   \n",
       "\n",
       "                                               sentence_id  \\\n",
       "1513725  2227eb1f8aed5e6f4831047a5f80fc26ad48c681994b87...   \n",
       "955608   1914a73a75870b3f64b874239c1e67211228b70bffff6c...   \n",
       "706952   15939719f2f6def0f5bbf68368aa8dd3a45878022290bb...   \n",
       "1032056  0cab9997cd6e9d71bc951ca3add97df6759ad2cede6b04...   \n",
       "1520912  a3f094041c72d54025ec2b696c0ab76dec5da3fae7e130...   \n",
       "\n",
       "                                                  sentence sentence_domain  \\\n",
       "1513725     Bàsicament, perquè era la disfressa que tenia.             NaN   \n",
       "955608            No obstant això, ell encara li era útil.             NaN   \n",
       "706952        Des d'on va escriure Rossini a la seva mare?             NaN   \n",
       "1032056  En els dies següents l'aixecament s'anà estene...             NaN   \n",
       "1520912  També va ser responsable del programa econòmic...             NaN   \n",
       "\n",
       "         up_votes  down_votes       age          gender  \\\n",
       "1513725         9           0  fourties  male_masculine   \n",
       "955608          4           0     teens  male_masculine   \n",
       "706952          4           2  fourties  male_masculine   \n",
       "1032056         2           0  thirties  male_masculine   \n",
       "1520912         6           3  fourties  male_masculine   \n",
       "\n",
       "                                   accents                 variant locale  \\\n",
       "1513725         valencià,La Vall d'Albaida                     NaN     ca   \n",
       "955608             Tortosí,nord-occidental                     NaN     ca   \n",
       "706952   De la Plana de Borriana ,valencià  Valencià septentrional     ca   \n",
       "1032056                           valencià                     NaN     ca   \n",
       "1520912         valencià,La Vall d'Albaida                     NaN     ca   \n",
       "\n",
       "        segment grouped_accents  \n",
       "1513725     NaN        valencià  \n",
       "955608      NaN        valencià  \n",
       "706952      NaN        valencià  \n",
       "1032056     NaN        valencià  \n",
       "1520912     NaN        valencià  "
      ]
     },
     "execution_count": 16,
     "metadata": {},
     "output_type": "execute_result"
    }
   ],
   "source": [
    "pd.concat([val_eval,cent_eval,nord_eval,bal_eval,no_eval]).head()"
   ]
  },
  {
   "cell_type": "code",
   "execution_count": 17,
   "metadata": {},
   "outputs": [
    {
     "name": "stdout",
     "output_type": "stream",
     "text": [
      "False\n"
     ]
    }
   ],
   "source": [
    "print(955608 in list(train_val_df.index))"
   ]
  },
  {
   "cell_type": "code",
   "execution_count": 18,
   "metadata": {},
   "outputs": [
    {
     "name": "stdout",
     "output_type": "stream",
     "text": [
      "True\n"
     ]
    }
   ],
   "source": [
    "print(1 in list(train_val_df.index))"
   ]
  },
  {
   "cell_type": "code",
   "execution_count": 19,
   "metadata": {},
   "outputs": [
    {
     "name": "stdout",
     "output_type": "stream",
     "text": [
      "False\n"
     ]
    }
   ],
   "source": [
    "print(1032056 in list(train_val_df.index))"
   ]
  },
  {
   "cell_type": "code",
   "execution_count": 20,
   "metadata": {},
   "outputs": [],
   "source": [
    "train_val_df.to_csv(out_path+\"train_dev_full.tsv\",sep='\\t')"
   ]
  }
 ],
 "metadata": {
  "language_info": {
   "name": "python"
  }
 },
 "nbformat": 4,
 "nbformat_minor": 2
}
