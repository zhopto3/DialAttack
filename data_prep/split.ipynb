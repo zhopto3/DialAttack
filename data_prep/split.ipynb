{
 "cells": [
  {
   "cell_type": "code",
   "execution_count": 3,
   "metadata": {},
   "outputs": [],
   "source": [
    "import pandas as pd\n",
    "\n",
    "path = \"../../../../../Desktop/cv-cat-18/ca/validated.tsv\""
   ]
  },
  {
   "cell_type": "code",
   "execution_count": 4,
   "metadata": {},
   "outputs": [
    {
     "name": "stderr",
     "output_type": "stream",
     "text": [
      "/var/folders/2d/7d3c_x1x5mb40mc1sgr14p740000gn/T/ipykernel_24944/2631694780.py:1: DtypeWarning: Columns (4,10,12) have mixed types. Specify dtype option on import or set low_memory=False.\n",
      "  df_full = pd.read_csv(path,delimiter=\"\\t\")\n"
     ]
    }
   ],
   "source": [
    "df_full = pd.read_csv(path,delimiter=\"\\t\")"
   ]
  },
  {
   "cell_type": "code",
   "execution_count": 7,
   "metadata": {},
   "outputs": [],
   "source": [
    "import json\n",
    "\n",
    "with open(\"./macrodial.json\",'r',encoding='utf-8') as input: \n",
    "    macro_dial = json.load(input)"
   ]
  },
  {
   "cell_type": "code",
   "execution_count": 9,
   "metadata": {},
   "outputs": [],
   "source": [
    "df_full[\"grouped_accents\"] = df_full.apply(lambda row: macro_dial[row.accents] if macro_dial.get(row.accents, None) else \"None\",axis=1)"
   ]
  },
  {
   "cell_type": "code",
   "execution_count": 12,
   "metadata": {},
   "outputs": [],
   "source": [
    "df_val = df_full[df_full.grouped_accents=='valencià']\n",
    "df_cent = df_full[df_full.grouped_accents=='central']\n",
    "df_nord = df_full[df_full.grouped_accents=='nord']\n",
    "df_bal = df_full[df_full.grouped_accents=='balear']\n",
    "df_no = df_full[df_full.grouped_accents=='nord-occidental']"
   ]
  },
  {
   "cell_type": "code",
   "execution_count": 21,
   "metadata": {},
   "outputs": [],
   "source": [
    "val_eval = df_val.sample(n=12025)\n",
    "cent_eval = df_cent.sample(n=12025)\n",
    "nord_eval = df_nord.sample(n=12025)\n",
    "bal_eval = df_bal.sample(n=12025)\n",
    "no_eval = df_no.sample(n=12025)\n"
   ]
  },
  {
   "cell_type": "code",
   "execution_count": 22,
   "metadata": {},
   "outputs": [
    {
     "data": {
      "text/plain": [
       "Index(['client_id', 'path', 'sentence_id', 'sentence', 'sentence_domain',\n",
       "       'up_votes', 'down_votes', 'age', 'gender', 'accents', 'variant',\n",
       "       'locale', 'segment', 'grouped_accents'],\n",
       "      dtype='object')"
      ]
     },
     "execution_count": 22,
     "metadata": {},
     "output_type": "execute_result"
    }
   ],
   "source": [
    "df_full.columns"
   ]
  },
  {
   "cell_type": "code",
   "execution_count": 23,
   "metadata": {},
   "outputs": [],
   "source": [
    "full_eval = pd.concat([val_eval,cent_eval,nord_eval,bal_eval,no_eval],ignore_index=True)"
   ]
  },
  {
   "cell_type": "code",
   "execution_count": 27,
   "metadata": {},
   "outputs": [],
   "source": [
    "out_path = \"../../../../../Desktop/cv-cat-18/ca/\"\n",
    "full_eval.to_csv(out_path+\"eval_balanced.tsv\",sep='\\t')"
   ]
  },
  {
   "cell_type": "code",
   "execution_count": 28,
   "metadata": {},
   "outputs": [
    {
     "data": {
      "text/plain": [
       "1885699"
      ]
     },
     "execution_count": 28,
     "metadata": {},
     "output_type": "execute_result"
    }
   ],
   "source": [
    "len(df_full)"
   ]
  },
  {
   "cell_type": "code",
   "execution_count": 29,
   "metadata": {},
   "outputs": [],
   "source": [
    "train_val_df = df_full.drop(pd.concat([val_eval,cent_eval,nord_eval,bal_eval,no_eval]).index)"
   ]
  },
  {
   "cell_type": "code",
   "execution_count": 30,
   "metadata": {},
   "outputs": [
    {
     "data": {
      "text/plain": [
       "1825574"
      ]
     },
     "execution_count": 30,
     "metadata": {},
     "output_type": "execute_result"
    }
   ],
   "source": [
    "len(train_val_df)"
   ]
  },
  {
   "cell_type": "code",
   "execution_count": 31,
   "metadata": {},
   "outputs": [],
   "source": [
    "#Check that the lengths of the train_val set correspond to what they should after removing eval\n",
    "assert (len(df_full)-len(train_val_df)) == len(full_eval)"
   ]
  },
  {
   "cell_type": "code",
   "execution_count": 32,
   "metadata": {},
   "outputs": [
    {
     "data": {
      "text/html": [
       "<div>\n",
       "<style scoped>\n",
       "    .dataframe tbody tr th:only-of-type {\n",
       "        vertical-align: middle;\n",
       "    }\n",
       "\n",
       "    .dataframe tbody tr th {\n",
       "        vertical-align: top;\n",
       "    }\n",
       "\n",
       "    .dataframe thead th {\n",
       "        text-align: right;\n",
       "    }\n",
       "</style>\n",
       "<table border=\"1\" class=\"dataframe\">\n",
       "  <thead>\n",
       "    <tr style=\"text-align: right;\">\n",
       "      <th></th>\n",
       "      <th>client_id</th>\n",
       "      <th>path</th>\n",
       "      <th>sentence_id</th>\n",
       "      <th>sentence</th>\n",
       "      <th>sentence_domain</th>\n",
       "      <th>up_votes</th>\n",
       "      <th>down_votes</th>\n",
       "      <th>age</th>\n",
       "      <th>gender</th>\n",
       "      <th>accents</th>\n",
       "      <th>variant</th>\n",
       "      <th>locale</th>\n",
       "      <th>segment</th>\n",
       "      <th>grouped_accents</th>\n",
       "    </tr>\n",
       "  </thead>\n",
       "  <tbody>\n",
       "    <tr>\n",
       "      <th>71485</th>\n",
       "      <td>46098bc705768ba56decc92e627fc907363d2e384241e8...</td>\n",
       "      <td>common_voice_ca_31318023.mp3</td>\n",
       "      <td>06f091c1ddc8c9da49f837a854a03ad8cdf3cfc2b6e8d0...</td>\n",
       "      <td>En el nivell superior de la façana lateral sud...</td>\n",
       "      <td>NaN</td>\n",
       "      <td>6</td>\n",
       "      <td>0</td>\n",
       "      <td>NaN</td>\n",
       "      <td>NaN</td>\n",
       "      <td>valencià</td>\n",
       "      <td>NaN</td>\n",
       "      <td>ca</td>\n",
       "      <td>NaN</td>\n",
       "      <td>valencià</td>\n",
       "    </tr>\n",
       "    <tr>\n",
       "      <th>83355</th>\n",
       "      <td>89a391019ba35cfbe3bd2a0324a8bcbdd7a6b670035d39...</td>\n",
       "      <td>common_voice_ca_35017249.mp3</td>\n",
       "      <td>3eddcd5f67cc86dc551a72894e214168bc7ef6deb1b8b9...</td>\n",
       "      <td>És llicenciat en dret i ciències econòmiques p...</td>\n",
       "      <td>NaN</td>\n",
       "      <td>2</td>\n",
       "      <td>0</td>\n",
       "      <td>fourties</td>\n",
       "      <td>male_masculine</td>\n",
       "      <td>valencià</td>\n",
       "      <td>NaN</td>\n",
       "      <td>ca</td>\n",
       "      <td>NaN</td>\n",
       "      <td>valencià</td>\n",
       "    </tr>\n",
       "    <tr>\n",
       "      <th>1509235</th>\n",
       "      <td>892bf89bd3a008a7d982de0d278349e654c713efacf965...</td>\n",
       "      <td>common_voice_ca_30680071.mp3</td>\n",
       "      <td>16828f0b9918d5e9ef08b6db980c345fdc1fff3e5d5303...</td>\n",
       "      <td>L'assassinat del president fou el detonant de ...</td>\n",
       "      <td>NaN</td>\n",
       "      <td>9</td>\n",
       "      <td>0</td>\n",
       "      <td>fourties</td>\n",
       "      <td>male_masculine</td>\n",
       "      <td>valencià,La Vall d'Albaida</td>\n",
       "      <td>NaN</td>\n",
       "      <td>ca</td>\n",
       "      <td>NaN</td>\n",
       "      <td>valencià</td>\n",
       "    </tr>\n",
       "    <tr>\n",
       "      <th>1506720</th>\n",
       "      <td>892bf89bd3a008a7d982de0d278349e654c713efacf965...</td>\n",
       "      <td>common_voice_ca_30605614.mp3</td>\n",
       "      <td>6d08eaad1f5837fdf8b322ecdd1ffa6c3bbb6a84f17437...</td>\n",
       "      <td>La seva conclusió és que la pobresa és la caus...</td>\n",
       "      <td>NaN</td>\n",
       "      <td>6</td>\n",
       "      <td>0</td>\n",
       "      <td>fourties</td>\n",
       "      <td>male_masculine</td>\n",
       "      <td>valencià,La Vall d'Albaida</td>\n",
       "      <td>NaN</td>\n",
       "      <td>ca</td>\n",
       "      <td>NaN</td>\n",
       "      <td>valencià</td>\n",
       "    </tr>\n",
       "    <tr>\n",
       "      <th>422905</th>\n",
       "      <td>fa525e3faa7dafd522be42b91c20a0c5364f1f45fbfe4c...</td>\n",
       "      <td>common_voice_ca_30741312.mp3</td>\n",
       "      <td>6d7139804857c9ba00136eccf6afc8a089124c24cf45c9...</td>\n",
       "      <td>Quin dia és el mercat d'Ademús?</td>\n",
       "      <td>NaN</td>\n",
       "      <td>4</td>\n",
       "      <td>0</td>\n",
       "      <td>twenties</td>\n",
       "      <td>male_masculine</td>\n",
       "      <td>Ebrenc</td>\n",
       "      <td>NaN</td>\n",
       "      <td>ca</td>\n",
       "      <td>NaN</td>\n",
       "      <td>valencià</td>\n",
       "    </tr>\n",
       "  </tbody>\n",
       "</table>\n",
       "</div>"
      ],
      "text/plain": [
       "                                                 client_id  \\\n",
       "71485    46098bc705768ba56decc92e627fc907363d2e384241e8...   \n",
       "83355    89a391019ba35cfbe3bd2a0324a8bcbdd7a6b670035d39...   \n",
       "1509235  892bf89bd3a008a7d982de0d278349e654c713efacf965...   \n",
       "1506720  892bf89bd3a008a7d982de0d278349e654c713efacf965...   \n",
       "422905   fa525e3faa7dafd522be42b91c20a0c5364f1f45fbfe4c...   \n",
       "\n",
       "                                 path  \\\n",
       "71485    common_voice_ca_31318023.mp3   \n",
       "83355    common_voice_ca_35017249.mp3   \n",
       "1509235  common_voice_ca_30680071.mp3   \n",
       "1506720  common_voice_ca_30605614.mp3   \n",
       "422905   common_voice_ca_30741312.mp3   \n",
       "\n",
       "                                               sentence_id  \\\n",
       "71485    06f091c1ddc8c9da49f837a854a03ad8cdf3cfc2b6e8d0...   \n",
       "83355    3eddcd5f67cc86dc551a72894e214168bc7ef6deb1b8b9...   \n",
       "1509235  16828f0b9918d5e9ef08b6db980c345fdc1fff3e5d5303...   \n",
       "1506720  6d08eaad1f5837fdf8b322ecdd1ffa6c3bbb6a84f17437...   \n",
       "422905   6d7139804857c9ba00136eccf6afc8a089124c24cf45c9...   \n",
       "\n",
       "                                                  sentence sentence_domain  \\\n",
       "71485    En el nivell superior de la façana lateral sud...             NaN   \n",
       "83355    És llicenciat en dret i ciències econòmiques p...             NaN   \n",
       "1509235  L'assassinat del president fou el detonant de ...             NaN   \n",
       "1506720  La seva conclusió és que la pobresa és la caus...             NaN   \n",
       "422905                     Quin dia és el mercat d'Ademús?             NaN   \n",
       "\n",
       "         up_votes  down_votes       age          gender  \\\n",
       "71485           6           0       NaN             NaN   \n",
       "83355           2           0  fourties  male_masculine   \n",
       "1509235         9           0  fourties  male_masculine   \n",
       "1506720         6           0  fourties  male_masculine   \n",
       "422905          4           0  twenties  male_masculine   \n",
       "\n",
       "                            accents variant locale segment grouped_accents  \n",
       "71485                      valencià     NaN     ca     NaN        valencià  \n",
       "83355                      valencià     NaN     ca     NaN        valencià  \n",
       "1509235  valencià,La Vall d'Albaida     NaN     ca     NaN        valencià  \n",
       "1506720  valencià,La Vall d'Albaida     NaN     ca     NaN        valencià  \n",
       "422905                       Ebrenc     NaN     ca     NaN        valencià  "
      ]
     },
     "execution_count": 32,
     "metadata": {},
     "output_type": "execute_result"
    }
   ],
   "source": [
    "pd.concat([val_eval,cent_eval,nord_eval,bal_eval,no_eval]).head()"
   ]
  },
  {
   "cell_type": "code",
   "execution_count": 47,
   "metadata": {},
   "outputs": [
    {
     "name": "stdout",
     "output_type": "stream",
     "text": [
      "False\n"
     ]
    }
   ],
   "source": [
    "print(71485 in list(train_val_df.index))"
   ]
  },
  {
   "cell_type": "code",
   "execution_count": 48,
   "metadata": {},
   "outputs": [
    {
     "name": "stdout",
     "output_type": "stream",
     "text": [
      "True\n"
     ]
    }
   ],
   "source": [
    "print(1 in list(train_val_df.index))"
   ]
  },
  {
   "cell_type": "code",
   "execution_count": 49,
   "metadata": {},
   "outputs": [
    {
     "name": "stdout",
     "output_type": "stream",
     "text": [
      "False\n"
     ]
    }
   ],
   "source": [
    "print(1506720 in list(train_val_df.index))"
   ]
  },
  {
   "cell_type": "code",
   "execution_count": 50,
   "metadata": {},
   "outputs": [],
   "source": [
    "train_val_df.to_csv(out_path+\"train_dev_full.tsv\",sep='\\t')"
   ]
  }
 ],
 "metadata": {
  "language_info": {
   "name": "python"
  }
 },
 "nbformat": 4,
 "nbformat_minor": 2
}
